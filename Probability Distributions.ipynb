{
 "cells": [
  {
   "cell_type": "markdown",
   "id": "matched-messaging",
   "metadata": {
    "id": "matched-messaging"
   },
   "source": [
    "# Workshop #5: Probability Distributions"
   ]
  },
  {
   "cell_type": "code",
   "execution_count": 2,
   "id": "humanitarian-schema",
   "metadata": {
    "id": "humanitarian-schema"
   },
   "outputs": [],
   "source": [
    "#importing libraries\n",
    "import numpy as np\n",
    "import pandas as pd\n",
    "import matplotlib.pyplot as plt\n",
    "import sympy as sp\n",
    "import scipy.stats as stats\n",
    "import random"
   ]
  },
  {
   "cell_type": "markdown",
   "id": "copyrighted-swedish",
   "metadata": {
    "id": "copyrighted-swedish"
   },
   "source": [
    "## Problem 1\n",
    "A certain tennis player makes a successful first serve 70% of the time. Assume that each serve is independent of the others. If she serves 6 times, what is the probability she gets:\n",
    "\n",
    "* all 6 serves in?\n",
    "* exactly 4 serves in?\n",
    "* at least 4 serves in?\n",
    "* no more than 4 serves in?\n",
    "* Make a bar graph to visualize the distribution"
   ]
  },
  {
   "cell_type": "code",
   "execution_count": 3,
   "id": "comic-athletics",
   "metadata": {
    "id": "comic-athletics"
   },
   "outputs": [
    {
     "name": "stdout",
     "output_type": "stream",
     "text": [
      "P(X = 6) =  0.11764899999999996\n",
      "P(X = 4) =  0.3241349999999999\n",
      "P(X >= 4) =  0.7443099999999999\n",
      "P(X <= 4) =  0.579825\n"
     ]
    }
   ],
   "source": [
    "X = stats.binom(n=6,p=0.70)\n",
    "\n",
    "print('P(X = 6) = ', X.pmf(6) )\n",
    "print('P(X = 4) = ', X.pmf(4))\n",
    "print('P(X >= 4) = ', 1-X.cdf(3))\n",
    "print('P(X <= 4) = ', X.cdf(4))"
   ]
  },
  {
   "cell_type": "code",
   "execution_count": 4,
   "id": "3dc3316a-2146-40e6-ad9e-5b1e85d7e372",
   "metadata": {},
   "outputs": [
    {
     "data": {
      "image/png": "[encoded data removed]",
      "text/plain": [
       "<Figure size 432x288 with 1 Axes>"
      ]
     },
     "metadata": {
      "needs_background": "light"
     },
     "output_type": "display_data"
    }
   ],
   "source": [
    "n = 6\n",
    "p = 0.70\n",
    "r_values = list(range(n + 1))\n",
    "\n",
    "# list of pmf values\n",
    "\n",
    "dist = [stats.binom.pmf(r, n, p) for r in r_values]\n",
    "\n",
    "# plotting the graph \n",
    "plt.bar(r_values, dist)\n",
    "plt.show()"
   ]
  },
  {
   "cell_type": "markdown",
   "id": "ZJaew1tPk3Ac",
   "metadata": {
    "id": "ZJaew1tPk3Ac",
    "tags": []
   },
   "source": [
    "## Problem 2\n",
    "\n",
    "For example, suppose it is known that 2% of all credit card transactions in a certain region are fraudulent.  Assume that individual transactions are independent. If there are 50 transactions per day in a certain region find the probability that:\n",
    "\n",
    "* exactly 2 fraudulent transactions occur?\n",
    "* at least 3 fraudulent transactions occur?\n",
    "* at most 4 fraudulent transactions occur?\n",
    "* make a bar graph to visualize the distribution"
   ]
  },
  {
   "cell_type": "code",
   "execution_count": 5,
   "id": "2CHeR7nPk2dd",
   "metadata": {
    "id": "2CHeR7nPk2dd"
   },
   "outputs": [
    {
     "name": "stdout",
     "output_type": "stream",
     "text": [
      "P(X = 2) =  0.18580085718730477\n",
      "P(X >= 3) =  0.0784277483509691\n",
      "P(X <= 4) =  0.9967902579739206\n"
     ]
    }
   ],
   "source": [
    "fraudelent_rv = stats.binom(n = 50, p = 0.02)\n",
    "\n",
    "#exactly 2 fraudulent transactions occur?\n",
    "prob_exactly_2 = fraudelent_rv.pmf(2)\n",
    "print('P(X = 2) = ', prob_exactly_2)\n",
    "\n",
    "#at least 3 fraudulent transactions occur?\n",
    "prob_at_least_3 = 1 - fraudelent_rv.cdf(2)\n",
    "print('P(X >= 3) = ', prob_at_least_3)\n",
    "\n",
    "#at most 4 fraudulent transactions occur?\n",
    "prob_at_most_4 = fraudelent_rv.cdf(4)\n",
    "print('P(X <= 4) = ', prob_at_most_4) \n",
    "\n"
   ]
  },
  {
   "cell_type": "code",
   "execution_count": 6,
   "id": "405bd9ec-04b0-4283-93a0-0efcb3076415",
   "metadata": {},
   "outputs": [
    {
     "data": {
      "image/png": "[encoded data removed]",
      "text/plain": [
       "<Figure size 432x288 with 1 Axes>"
      ]
     },
     "metadata": {
      "needs_background": "light"
     },
     "output_type": "display_data"
    }
   ],
   "source": [
    "n = 50\n",
    "p = 0.02\n",
    "r_values = list(range(n + 1))\n",
    "\n",
    "# list of pmf values\n",
    "\n",
    "dist = [stats.binom.pmf(r, n, p) for r in r_values ]\n",
    "\n",
    "# plotting the graph \n",
    "plt.bar(r_values, dist)\n",
    "plt.show()"
   ]
  },
  {
   "cell_type": "markdown",
   "id": "confidential-singapore",
   "metadata": {
    "id": "confidential-singapore"
   },
   "source": [
    "## Problem 3\n",
    "A company produces computer microchips, which have a life expectancy that follows a normal distribution with a mean of 90 months and a standard deviation of 3.7 months.\n",
    "* If a microchip is guaranteed to work for 84 months, find the probability that it will fail before the guarantee period ends.\n",
    "* The probability that a microchip is working before the end of the guarantee period is required to be 99%. For how many months should it be guaranteed to work?\n",
    "* A rival company produces microchips where the probability that they will fail after 84 months is 0.88. Given that the life expectancy also follows a normal distribution with standard deviation 3.7 months, find the mean life expectancy of these chips."
   ]
  },
  {
   "cell_type": "code",
   "execution_count": 105,
   "id": "sonic-hudson",
   "metadata": {
    "id": "sonic-hudson"
   },
   "outputs": [
    {
     "name": "stdout",
     "output_type": "stream",
     "text": [
      "X ~ N(90, 3.7)\n",
      "\n",
      "P(X <= 84) =  0.052442195093830156\n",
      "\n",
      "P(X < guarantee period) = 0.99 for months =  98.60748713395111\n",
      "The mean life expectancy of the rival company products is 88.3475 days\n"
     ]
    }
   ],
   "source": [
    "# Define mu and sigma\n",
    "mu = 90\n",
    "sigma = 3.7\n",
    "\n",
    "#If a microchip is guaranteed to work for 84 months, find the probability that it will fail before the guarantee period ends.\n",
    "# print intro\n",
    "print(f'X ~ N({mu}, {sigma})')\n",
    "guarantee_rv = stats.norm(mu,sigma)\n",
    "print('\\nP(X <= 84) = ', guarantee_rv.cdf(84))\n",
    "\n",
    "#The probability that a microchip is working before the end of the guarantee period is required to be 99%. For how many months should it be guaranteed to work?\n",
    "print('\\nP(X < guarantee period) = 0.99 for months = ', guarantee_rv.ppf(0.99)) #norm inv distribution\n",
    "\n",
    "#A rival company produces microchips where the probability that they will fail after 84 months is 0.88. \n",
    "#Given that the life expectancy also follows a normal distribution with standard deviation 3.7 months, find the mean life expectancy of these chips.\n",
    "# Define Z\n",
    "Z = stats.norm(0,1)\n",
    "\n",
    "z1 = Z.ppf(1-0.88)\n",
    "\n",
    "mu, sigma = sp.symbols('mu sigma', real=True)\n",
    "z1 = sp.sympify(z1)\n",
    "sigma = 3.7\n",
    "\n",
    "eq = sp.Eq((84-mu)/sigma, z1)\n",
    "\n",
    "sol = sp.solve((eq), (mu, sigma))\n",
    "sol\n",
    "print(f'The mean life expectancy of the rival company products is {round(sol[0][0], 4)} days')"
   ]
  },
  {
   "cell_type": "markdown",
   "id": "elect-quarter",
   "metadata": {
    "id": "elect-quarter"
   },
   "source": [
    "## Problem 4\n",
    "The speeds of cars at a certain point on a straight road are normally distributed with mean $\\mu$ and standard deviation $\\sigma$. 15% of the cars travelled at speeds greater than 90 km/h and 12% of them at speeds less than 40 km/h. Find $\\mu$ and $\\sigma$."
   ]
  },
  {
   "cell_type": "code",
   "execution_count": 39,
   "id": "acoustic-cotton",
   "metadata": {
    "id": "acoustic-cotton"
   },
   "outputs": [
    {
     "name": "stdout",
     "output_type": "stream",
     "text": [
      "Mean mu =  66.5663396278966\n",
      "St. dev sigma =  22.6099049004478\n"
     ]
    }
   ],
   "source": [
    "# Define Z\n",
    "Z = stats.norm(0,1)\n",
    "\n",
    "z1 = Z.ppf(1-0.15)\n",
    "z2 = Z.ppf(0.12)\n",
    "\n",
    "mu, sigma = sp.symbols('mu sigma', real=True)\n",
    "z1 = sp.sympify(z1)\n",
    "z2 = sp.sympify(z2)\n",
    "\n",
    "eq_1 = sp.Eq((90-mu)/sigma, z1)\n",
    "eq_2 = sp.Eq((40-mu)/sigma, z2)\n",
    "\n",
    "sol = sp.solve((eq_1, eq_2), (mu, sigma))\n",
    "\n",
    "print('Mean mu = ', sol[mu])\n",
    "print('St. dev sigma = ', sol[sigma])"
   ]
  },
  {
   "cell_type": "code",
   "execution_count": 92,
   "id": "dc68c730-b5b4-4bb0-b1da-eb1666266b16",
   "metadata": {},
   "outputs": [
    {
     "data": {
      "image/png": "[encoded data removed]",
      "text/plain": [
       "<Figure size 432x288 with 1 Axes>"
      ]
     },
     "metadata": {
      "needs_background": "light"
     },
     "output_type": "display_data"
    }
   ],
   "source": [
    "Z = stats.norm(0,1)\n",
    "z1 = Z.ppf(1-0.15)\n",
    "z2 = Z.ppf(0.12)\n",
    "\n",
    "xs = np.linspace(-3, 3, 1000)\n",
    "plt.figure()\n",
    "plt.vlines(z1, ymin=0, ymax=0.4, colors='tab:red')\n",
    "plt.fill_between(np.linspace(-3, z1), Z.pdf(np.linspace(-3, z1)), alpha=0.4)\n",
    "\n",
    "plt.vlines(z2, ymin=0, ymax=0.25, colors='tab:red')\n",
    "plt.fill_between(np.linspace(z2, 3), Z.pdf(np.linspace(z2, 3)), alpha=0.4)\n",
    "plt.plot(xs, Z.pdf(xs))\n",
    "plt.show()"
   ]
  },
  {
   "cell_type": "markdown",
   "id": "qF6Rdt82mlE6",
   "metadata": {
    "id": "qF6Rdt82mlE6"
   },
   "source": [
    "## Problem 5\n",
    "\n",
    "Poisson Distribution: instead of counting successes in a certain number of trials like the Binomial Distribution does, the Poisson distribution does something different: it counts the number of occurrences per unit of time/space (think of “occurrences” as successes). For example, if someone is known to catch on average 3 fish per hour, then a Poisson distribution could model the probability of the number of fish caught per hour (i.e. what is the probability of catching certain number of fish). The advantage of the Poisson distribution is that the possible number of observed occurrences is unlimited in theory: one might catch 3 fish on average, but in a happy-hour they might catch even 100 (though this is veeeeery unlikely).\n",
    " \n",
    "If the random variable $X$ follows a Poisson distribution, and we label the average number of occurrences per unit $\\lambda>0$, we write $X$~$Po(\\lambda)$, then the probability of observing $k$ occurences ($k$ is integer and is at least zero) is given by:\n",
    "\n",
    "\\begin{equation} P(X=k) = \\frac{\\lambda^k}{k!} e^{-\\lambda} \\end{equation}\n",
    "\n",
    "In the previous example, if F is the number of fish caught, then $\\lambda=3$ and $F$~$Po(3)$ which means that:\n",
    "\n",
    "\\begin{equation} P(X=k) = \\frac{3^k}{k!} e^{-3} \\end{equation}\n",
    "\n",
    "a) Calculate the probabilities of catching $k=0$ to $k=10$ fish (beyond 10 the probabilities are very small)\n",
    "\n",
    "b) Visualize the probabilities using a bar graph."
   ]
  },
  {
   "cell_type": "code",
   "execution_count": 68,
   "id": "y1BqSnUpmldt",
   "metadata": {
    "id": "y1BqSnUpmldt"
   },
   "outputs": [
    {
     "name": "stdout",
     "output_type": "stream",
     "text": [
      "Initial distribution: 0.0498 0.1494 0.224 0.224 0.168 0.1008 0.0504 0.0216 0.0081 0.0027 0.0008\n",
      "cummulative: 0.9996\n"
     ]
    }
   ],
   "source": [
    "#3 fish per hour\n",
    "lmbd = 3 #fish per hour\n",
    "fish_rv = stats.poisson(lmbd)\n",
    "\n",
    "zero_fish = round(fish_rv.pmf(0),4)\n",
    "one_fish = round(fish_rv.pmf(1),4)\n",
    "two_fish = round(fish_rv.pmf(2),4)\n",
    "three_fish = round(fish_rv.pmf(3),4)\n",
    "four_fish = round(fish_rv.pmf(4),4)\n",
    "five_fish = round(fish_rv.pmf(5),4)\n",
    "six_fish = round(fish_rv.pmf(6),4)\n",
    "seven_fish = round(fish_rv.pmf(7),4)\n",
    "eight_fish = round(fish_rv.pmf(8),4)\n",
    "nine_fish = round(fish_rv.pmf(9),4)\n",
    "ten_fish = round(fish_rv.pmf(10),4)\n",
    "\n",
    "print('Initial distribution:',zero_fish,one_fish, two_fish, three_fish, four_fish, five_fish, six_fish, seven_fish, eight_fish, nine_fish, ten_fish)\n",
    "sums = zero_fish + one_fish + two_fish + three_fish + four_fish + five_fish + six_fish + seven_fish + eight_fish + nine_fish + ten_fish\n",
    "print('cummulative:', sums)"
   ]
  },
  {
   "cell_type": "code",
   "execution_count": 106,
   "id": "BxmZ9_6Lf-oQ",
   "metadata": {
    "id": "BxmZ9_6Lf-oQ"
   },
   "outputs": [
    {
     "data": {
      "image/png": "[encoded data removed]",
      "text/plain": [
       "<Figure size 1008x360 with 1 Axes>"
      ]
     },
     "metadata": {
      "needs_background": "light"
     },
     "output_type": "display_data"
    }
   ],
   "source": [
    "#visualize\n",
    "lmbd = 3\n",
    "fish_rv = stats.poisson(lmbd)\n",
    "\n",
    "ks = np.arange(0, 11)\n",
    "probs = fish_rv.pmf(ks)\n",
    "plt.figure(figsize=(14,5))\n",
    "plt.bar(ks, fish_rv.pmf(ks), alpha=0.5, label = 'C ~ Po(10)')\n",
    "plt.xlabel('Number of fish catched')\n",
    "plt.ylabel('Probability')\n",
    "plt.legend()\n",
    "plt.show()"
   ]
  },
  {
   "cell_type": "code",
   "execution_count": null,
   "id": "39480456-1e07-470e-a6b5-4b95c8dcc307",
   "metadata": {},
   "outputs": [],
   "source": []
  }
 ],
 "metadata": {
  "colab": {
   "collapsed_sections": [],
   "name": "Workshop #5 - clean.ipynb",
   "provenance": []
  },
  "kernelspec": {
   "display_name": "Python 3 (ipykernel)",
   "language": "python",
   "name": "python3"
  },
  "language_info": {
   "codemirror_mode": {
    "name": "ipython",
    "version": 3
   },
   "file_extension": ".py",
   "mimetype": "text/x-python",
   "name": "python",
   "nbconvert_exporter": "python",
   "pygments_lexer": "ipython3",
   "version": "3.9.7"
  }
 },
 "nbformat": 4,
 "nbformat_minor": 5
}
