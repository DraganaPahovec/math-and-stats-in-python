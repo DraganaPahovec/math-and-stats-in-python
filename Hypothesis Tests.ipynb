{
 "cells": [
  {
   "cell_type": "markdown",
   "id": "indian-childhood",
   "metadata": {},
   "source": [
    "# Workshop #6: Hypothesis Tests"
   ]
  },
  {
   "cell_type": "code",
   "execution_count": 1,
   "id": "possible-germany",
   "metadata": {},
   "outputs": [],
   "source": [
    "# Loading the libraries\n",
    "import numpy as np\n",
    "import pandas as pd\n",
    "import matplotlib.pyplot as plt\n",
    "import scipy.stats as stats\n",
    "from statsmodels.stats.multicomp import pairwise_tukeyhsd"
   ]
  },
  {
   "cell_type": "markdown",
   "id": "demographic-orleans",
   "metadata": {},
   "source": [
    "## Problem 1\n",
    "*Gulf Real Estate Properties Inc.* is a real estate firm located in southwest Florida. The company, which advertises itself as “expert in the real estate market,” monitors condominium sales by collecting data on location, list price, sale price, and number of days it takes to sell each unit. Each condominium is classified as *Yes* for Gulf view if it is located directly on the Gulf of Mexico or *No* for Gulf view if it is located on the bay or a golf course, near but not on the Gulf. Sample data from the Multiple Listing Service in Naples, Florida, provided recent sales data for some condominiums. The prices are in thousands of dollars. The data are given in `condominiums.csv`.\n",
    "\n",
    "Construct a 95% confidence interval estimate of the population mean *Sale Price* for condominiums **with Gulf view**, and then the 95% confidence interval for the population mean *Sale Price* for condominiums **without Gulf view**. Based on your results, does it seem that the prices differ?"
   ]
  },
  {
   "cell_type": "code",
   "execution_count": 19,
   "id": "magnetic-hello",
   "metadata": {},
   "outputs": [
    {
     "data": {
      "text/html": [
       "<div>\n",
       "<style scoped>\n",
       "    .dataframe tbody tr th:only-of-type {\n",
       "        vertical-align: middle;\n",
       "    }\n",
       "\n",
       "    .dataframe tbody tr th {\n",
       "        vertical-align: top;\n",
       "    }\n",
       "\n",
       "    .dataframe thead th {\n",
       "        text-align: right;\n",
       "    }\n",
       "</style>\n",
       "<table border=\"1\" class=\"dataframe\">\n",
       "  <thead>\n",
       "    <tr style=\"text-align: right;\">\n",
       "      <th></th>\n",
       "      <th>gulf_view</th>\n",
       "      <th>list_price</th>\n",
       "      <th>sale_price</th>\n",
       "      <th>days_to_sell</th>\n",
       "    </tr>\n",
       "  </thead>\n",
       "  <tbody>\n",
       "    <tr>\n",
       "      <th>0</th>\n",
       "      <td>yes</td>\n",
       "      <td>495.0</td>\n",
       "      <td>475.0</td>\n",
       "      <td>130</td>\n",
       "    </tr>\n",
       "    <tr>\n",
       "      <th>1</th>\n",
       "      <td>yes</td>\n",
       "      <td>379.0</td>\n",
       "      <td>350.0</td>\n",
       "      <td>71</td>\n",
       "    </tr>\n",
       "    <tr>\n",
       "      <th>2</th>\n",
       "      <td>yes</td>\n",
       "      <td>529.0</td>\n",
       "      <td>519.0</td>\n",
       "      <td>85</td>\n",
       "    </tr>\n",
       "    <tr>\n",
       "      <th>3</th>\n",
       "      <td>yes</td>\n",
       "      <td>552.5</td>\n",
       "      <td>534.5</td>\n",
       "      <td>95</td>\n",
       "    </tr>\n",
       "    <tr>\n",
       "      <th>4</th>\n",
       "      <td>yes</td>\n",
       "      <td>334.9</td>\n",
       "      <td>334.9</td>\n",
       "      <td>119</td>\n",
       "    </tr>\n",
       "  </tbody>\n",
       "</table>\n",
       "</div>"
      ],
      "text/plain": [
       "  gulf_view  list_price  sale_price  days_to_sell\n",
       "0       yes       495.0       475.0           130\n",
       "1       yes       379.0       350.0            71\n",
       "2       yes       529.0       519.0            85\n",
       "3       yes       552.5       534.5            95\n",
       "4       yes       334.9       334.9           119"
      ]
     },
     "metadata": {},
     "output_type": "display_data"
    },
    {
     "data": {
      "text/plain": [
       "232"
      ]
     },
     "execution_count": 19,
     "metadata": {},
     "output_type": "execute_result"
    }
   ],
   "source": [
    "condominiums = pd.read_csv('condominiums.csv')\n",
    "display(condominiums.head())\n",
    "condominiums.size\n"
   ]
  },
  {
   "cell_type": "code",
   "execution_count": 20,
   "id": "0e33b96b-a563-4b15-9426-2927caab87df",
   "metadata": {},
   "outputs": [
    {
     "data": {
      "text/plain": [
       "160"
      ]
     },
     "metadata": {},
     "output_type": "display_data"
    },
    {
     "data": {
      "text/plain": [
       "72"
      ]
     },
     "metadata": {},
     "output_type": "display_data"
    }
   ],
   "source": [
    "with_Gulf_view = condominiums[condominiums['gulf_view'] == 'yes']\n",
    "without_Gulf_view = condominiums[condominiums['gulf_view'] == 'no']\n",
    "\n",
    "display(with_Gulf_view.size)\n",
    "display(without_Gulf_view.size)"
   ]
  },
  {
   "cell_type": "code",
   "execution_count": 25,
   "id": "a6b00424-08b1-4b2e-9b56-e4563215fa75",
   "metadata": {},
   "outputs": [
    {
     "name": "stdout",
     "output_type": "stream",
     "text": [
      "mean with Gulf view =  454.2225\n",
      "stdev with Gulf view =  192.5177534104456\n",
      "We are 95% confident that the mean sale price for condominums with Gulf view is between $392.6k and $515.9k\n"
     ]
    }
   ],
   "source": [
    "# Sale price for with_Gulf_view\n",
    "\n",
    "df_yes = len(with_Gulf_view) - 1 \n",
    "\n",
    "print('mean with Gulf view = ', np.mean(with_Gulf_view['sale_price']))\n",
    "print('stdev with Gulf view = ', np.std(with_Gulf_view['sale_price'], ddof=1))\n",
    "se = np.std(with_Gulf_view['sale_price'], ddof=1)/np.sqrt(df_yes)\n",
    "\n",
    "L = np.mean(with_Gulf_view['sale_price']) - 2*se\n",
    "U = np.mean(with_Gulf_view['sale_price']) + 2*se\n",
    "\n",
    "print(f'We are 95% confident that the mean sale price for condominums with Gulf view is between ${round(L,1)}k and ${round(U,1)}k')\n"
   ]
  },
  {
   "cell_type": "code",
   "execution_count": 26,
   "id": "59ed98c3-a0d2-4ff5-a8b7-14a22c352c4c",
   "metadata": {},
   "outputs": [
    {
     "name": "stdout",
     "output_type": "stream",
     "text": [
      "mean without Gulf view =  203.1888888888889\n",
      "stdev without Gulf view =  43.89172357851547\n",
      "We are 95% confident that the mean sale price for condominums with Gulf view is between $181.9k and $224.5k\n"
     ]
    }
   ],
   "source": [
    "# Sale price for without_Gulf_view\n",
    "\n",
    "df_no = len(without_Gulf_view) - 1 \n",
    "\n",
    "print('mean without Gulf view = ', np.mean(without_Gulf_view['sale_price']))\n",
    "print('stdev without Gulf view = ', np.std(without_Gulf_view['sale_price'], ddof=1))\n",
    "se = np.std(without_Gulf_view['sale_price'], ddof=1)/np.sqrt(df_no)\n",
    "\n",
    "L = np.mean(without_Gulf_view['sale_price']) - 2*se\n",
    "U = np.mean(without_Gulf_view['sale_price']) + 2*se\n",
    "\n",
    "print(f'We are 95% confident that the mean sale price for condominums with Gulf view is between ${round(L,1)}k and ${round(U,1)}k')"
   ]
  },
  {
   "cell_type": "markdown",
   "id": "still-definition",
   "metadata": {},
   "source": [
    "## Problem 2\n",
    "Triphammer Road is a busy street that passes through a residential neighborhood. Residents there are concerned that vehicles traveling on Triphammer *often **exceed** the posted speed* limit of 30 miles per hour. The local police sometimes place a radar speed detector by the side of the road; as a vehicle approaches, this detector displays the vehicle’s speed to its driver. The local residents are not convinced that such a passive method is helping the problem. They wish to persuade the village to add extra police patrols to encourage drivers to observe the speed limit. To help their case, a resident stood where he could see the detector and recorded the speed of vehicles passing it during a 15-minute period one day. When clusters of vehicles went by, he noted only the speed of the front vehicle. The data are given in `triphammer.csv`.\n",
    "\n",
    "Is there sufficient evidence to support the residents' concern about the speed of vehicles passing on Triphammer Road? State the hypotheses of the test, and then perform the correct test to reach a conclusion.\n"
   ]
  },
  {
   "cell_type": "code",
   "execution_count": 23,
   "id": "e6967b86-5a41-474b-a9a5-a6dcc5452daa",
   "metadata": {},
   "outputs": [
    {
     "data": {
      "text/html": [
       "<div>\n",
       "<style scoped>\n",
       "    .dataframe tbody tr th:only-of-type {\n",
       "        vertical-align: middle;\n",
       "    }\n",
       "\n",
       "    .dataframe tbody tr th {\n",
       "        vertical-align: top;\n",
       "    }\n",
       "\n",
       "    .dataframe thead th {\n",
       "        text-align: right;\n",
       "    }\n",
       "</style>\n",
       "<table border=\"1\" class=\"dataframe\">\n",
       "  <thead>\n",
       "    <tr style=\"text-align: right;\">\n",
       "      <th></th>\n",
       "      <th>vehicle type</th>\n",
       "      <th>speed (mph)</th>\n",
       "    </tr>\n",
       "  </thead>\n",
       "  <tbody>\n",
       "    <tr>\n",
       "      <th>0</th>\n",
       "      <td>car</td>\n",
       "      <td>29</td>\n",
       "    </tr>\n",
       "    <tr>\n",
       "      <th>1</th>\n",
       "      <td>SUV</td>\n",
       "      <td>34</td>\n",
       "    </tr>\n",
       "    <tr>\n",
       "      <th>2</th>\n",
       "      <td>truck</td>\n",
       "      <td>34</td>\n",
       "    </tr>\n",
       "    <tr>\n",
       "      <th>3</th>\n",
       "      <td>truck</td>\n",
       "      <td>28</td>\n",
       "    </tr>\n",
       "    <tr>\n",
       "      <th>4</th>\n",
       "      <td>truck</td>\n",
       "      <td>30</td>\n",
       "    </tr>\n",
       "  </tbody>\n",
       "</table>\n",
       "</div>"
      ],
      "text/plain": [
       "  vehicle type  speed (mph)\n",
       "0          car           29\n",
       "1          SUV           34\n",
       "2        truck           34\n",
       "3        truck           28\n",
       "4        truck           30"
      ]
     },
     "metadata": {},
     "output_type": "display_data"
    },
    {
     "name": "stdout",
     "output_type": "stream",
     "text": [
      "mean =  31.043478260869566\n",
      "stdev =  4.247761558853035\n",
      "s.e.=  0.8857195124984071\n"
     ]
    },
    {
     "data": {
      "image/png": "[encoded data removed]",
      "text/plain": [
       "<Figure size 1080x360 with 1 Axes>"
      ]
     },
     "metadata": {
      "needs_background": "light"
     },
     "output_type": "display_data"
    },
    {
     "data": {
      "text/plain": [
       "0.12566910367402262"
      ]
     },
     "metadata": {},
     "output_type": "display_data"
    },
    {
     "name": "stdout",
     "output_type": "stream",
     "text": [
      "Do not reject the H0. There is no evidence that the average speed is greater than 30 mph\n"
     ]
    }
   ],
   "source": [
    "# Hypothesis:\n",
    "# HO: mu = 30 miles per hour\n",
    "# Ha: mu > 30 miles per hour\n",
    "\n",
    "mu0 = 30\n",
    "\n",
    "triphammer = pd.read_csv('triphammer.csv')\n",
    "display(triphammer.head())\n",
    "triphammer.size\n",
    "\n",
    "data = np.array(triphammer['speed (mph)'])\n",
    "data\n",
    "\n",
    "n = data.size\n",
    "mean = np.mean(data)\n",
    "stdev = np.std(data, ddof=1)\n",
    "se = stdev/np.sqrt(n)\n",
    "df = n -1 \n",
    "\n",
    "print('mean = ', mean)\n",
    "print('stdev = ', stdev)\n",
    "print('s.e.= ', se)\n",
    "\n",
    "T =stats.norm(mu0,se)\n",
    "xs = np.linspace(mu0 - 3*se, mu0 + 3*se, 1000)\n",
    "\n",
    "plt.figure(figsize=(15,5))\n",
    "plt.plot(xs, T.pdf(xs))\n",
    "plt.vlines([mu0, mean], 0,0.3, colors='r' )\n",
    "plt.show()\n",
    "\n",
    "display(stats.ttest_1samp(data, mu0, alternative='greater').pvalue)\n",
    "\n",
    "print('Do not reject the H0. There is no evidence that the average speed is greater than 30 mph')"
   ]
  },
  {
   "cell_type": "markdown",
   "id": "flexible-patio",
   "metadata": {},
   "source": [
    "## Problem 3\n",
    "In an investigation of environmental causes of disease, data were collected on the annual mortality rate (deaths per 100,000) for males in 61 large towns in England and Wales. In addition, the water hardness was recorded as the calcium concentration (parts per million, ppm) in the drinking water. The data set (given in `mortality_rates.csv`) also notes, for each town, whether it was south or north of Derby.\n",
    "\n",
    "Perform an appropriate hypothesis test to establish if there is a significant **difference in mortality rates** in the two regions?"
   ]
  },
  {
   "cell_type": "code",
   "execution_count": 47,
   "id": "informal-objective",
   "metadata": {},
   "outputs": [
    {
     "data": {
      "text/html": [
       "<div>\n",
       "<style scoped>\n",
       "    .dataframe tbody tr th:only-of-type {\n",
       "        vertical-align: middle;\n",
       "    }\n",
       "\n",
       "    .dataframe tbody tr th {\n",
       "        vertical-align: top;\n",
       "    }\n",
       "\n",
       "    .dataframe thead th {\n",
       "        text-align: right;\n",
       "    }\n",
       "</style>\n",
       "<table border=\"1\" class=\"dataframe\">\n",
       "  <thead>\n",
       "    <tr style=\"text-align: right;\">\n",
       "      <th></th>\n",
       "      <th>derby</th>\n",
       "      <th>mortality</th>\n",
       "      <th>calcium</th>\n",
       "    </tr>\n",
       "  </thead>\n",
       "  <tbody>\n",
       "    <tr>\n",
       "      <th>0</th>\n",
       "      <td>South</td>\n",
       "      <td>1702</td>\n",
       "      <td>44</td>\n",
       "    </tr>\n",
       "    <tr>\n",
       "      <th>1</th>\n",
       "      <td>South</td>\n",
       "      <td>1309</td>\n",
       "      <td>59</td>\n",
       "    </tr>\n",
       "    <tr>\n",
       "      <th>2</th>\n",
       "      <td>South</td>\n",
       "      <td>1259</td>\n",
       "      <td>133</td>\n",
       "    </tr>\n",
       "    <tr>\n",
       "      <th>3</th>\n",
       "      <td>North</td>\n",
       "      <td>1427</td>\n",
       "      <td>27</td>\n",
       "    </tr>\n",
       "    <tr>\n",
       "      <th>4</th>\n",
       "      <td>North</td>\n",
       "      <td>1724</td>\n",
       "      <td>6</td>\n",
       "    </tr>\n",
       "  </tbody>\n",
       "</table>\n",
       "</div>"
      ],
      "text/plain": [
       "   derby  mortality  calcium\n",
       "0  South       1702       44\n",
       "1  South       1309       59\n",
       "2  South       1259      133\n",
       "3  North       1427       27\n",
       "4  North       1724        6"
      ]
     },
     "metadata": {},
     "output_type": "display_data"
    },
    {
     "data": {
      "text/plain": [
       "(61, 3)"
      ]
     },
     "execution_count": 47,
     "metadata": {},
     "output_type": "execute_result"
    }
   ],
   "source": [
    "mortality_rates = pd.read_csv('mortality_rates.csv')\n",
    "display(mortality_rates.head())\n",
    "mortality_rates.shape"
   ]
  },
  {
   "cell_type": "code",
   "execution_count": 48,
   "id": "d7c96d98-26f0-4a03-a545-b2c1245f345f",
   "metadata": {},
   "outputs": [
    {
     "data": {
      "text/plain": [
       "<AxesSubplot:xlabel='derby', ylabel='mortality'>"
      ]
     },
     "execution_count": 48,
     "metadata": {},
     "output_type": "execute_result"
    },
    {
     "data": {
      "image/png": "[encoded data removed]",
      "text/plain": [
       "<Figure size 432x288 with 1 Axes>"
      ]
     },
     "metadata": {
      "needs_background": "light"
     },
     "output_type": "display_data"
    }
   ],
   "source": [
    "import seaborn as sns\n",
    "sns.boxplot(y='mortality', x='derby',\n",
    "            data=mortality_rates,\n",
    "            palette='colorblind')"
   ]
  },
  {
   "cell_type": "code",
   "execution_count": 49,
   "id": "71908189-af39-4915-957f-dc5d34eca124",
   "metadata": {},
   "outputs": [
    {
     "name": "stdout",
     "output_type": "stream",
     "text": [
      "mean_1 = 1388.851851851852\n",
      "mean_2 = 1631.5882352941176\n",
      "p-value =  1.6733802433602796e-08\n",
      "Reject the HO. There is evidence that the average mortality rates are different in the two derbies.\n"
     ]
    }
   ],
   "source": [
    "south = np.array(mortality_rates[mortality_rates['derby']=='South']['mortality'])\n",
    "north = np.array(mortality_rates[mortality_rates['derby']=='North']['mortality'])\n",
    "\n",
    "#H0: mu_1 = mu_2\n",
    "#Ha: mu_1 =/= mu_2\n",
    "data = np.array(mortality_rates['mortality'])\n",
    "print('mean_1 =', np.mean(south))\n",
    "print('mean_2 =', np.mean(north))\n",
    "results_ind = stats.ttest_ind(south, north, equal_var=True, alternative='two-sided')\n",
    "print('p-value = ',results_ind.pvalue)\n",
    "\n",
    "print('Reject the HO. There is evidence that the average mortality rates are different in the two derbies.')"
   ]
  },
  {
   "cell_type": "code",
   "execution_count": 50,
   "id": "0b0eb4ba-f53f-40ed-a92a-c39463d0757f",
   "metadata": {},
   "outputs": [
    {
     "data": {
      "text/plain": [
       "187.66875393145708"
      ]
     },
     "execution_count": 50,
     "metadata": {},
     "output_type": "execute_result"
    }
   ],
   "source": [
    "mean = np.mean(mortality_rates['mortality'])\n",
    "std = np.std(mortality_rates['mortality'], ddof=1)\n",
    "# std_south=np.std(south, ddof=1)\n",
    "# std_north=np.std(north, ddof=1)\n",
    "std"
   ]
  },
  {
   "cell_type": "code",
   "execution_count": 51,
   "id": "f35a39ca-0f4a-429d-b902-29e0768d15e5",
   "metadata": {},
   "outputs": [],
   "source": [
    "mean_south = np.mean(south)\n",
    "mean_north = np.mean(north)\n",
    "\n",
    "std_south = np.std(south)\n",
    "std_north = np.std(north)"
   ]
  },
  {
   "cell_type": "code",
   "execution_count": 52,
   "id": "5f774d83-7ae8-4e01-a573-e415598e3baf",
   "metadata": {},
   "outputs": [],
   "source": [
    "mortality_rates ['Outlier'] = ((mortality_rates['mortality'] < np.mean(south) - 3*std_south) | (mortality_rates['mortality'] > np.mean(south) + 3*std_south))"
   ]
  },
  {
   "cell_type": "code",
   "execution_count": 53,
   "id": "2b350523-0ede-4d95-9885-5107788b8220",
   "metadata": {},
   "outputs": [],
   "source": [
    "mortality_rates_without_outliers = mortality_rates[mortality_rates['Outlier']==False]"
   ]
  },
  {
   "cell_type": "code",
   "execution_count": 55,
   "id": "fdba6439-2a72-4ca6-8093-ea304d34cde6",
   "metadata": {},
   "outputs": [
    {
     "data": {
      "text/html": [
       "<div>\n",
       "<style scoped>\n",
       "    .dataframe tbody tr th:only-of-type {\n",
       "        vertical-align: middle;\n",
       "    }\n",
       "\n",
       "    .dataframe tbody tr th {\n",
       "        vertical-align: top;\n",
       "    }\n",
       "\n",
       "    .dataframe thead th {\n",
       "        text-align: right;\n",
       "    }\n",
       "</style>\n",
       "<table border=\"1\" class=\"dataframe\">\n",
       "  <thead>\n",
       "    <tr style=\"text-align: right;\">\n",
       "      <th></th>\n",
       "      <th>derby</th>\n",
       "      <th>mortality</th>\n",
       "      <th>calcium</th>\n",
       "      <th>Outlier</th>\n",
       "    </tr>\n",
       "  </thead>\n",
       "  <tbody>\n",
       "    <tr>\n",
       "      <th>0</th>\n",
       "      <td>South</td>\n",
       "      <td>1702</td>\n",
       "      <td>44</td>\n",
       "      <td>False</td>\n",
       "    </tr>\n",
       "    <tr>\n",
       "      <th>1</th>\n",
       "      <td>South</td>\n",
       "      <td>1309</td>\n",
       "      <td>59</td>\n",
       "      <td>False</td>\n",
       "    </tr>\n",
       "    <tr>\n",
       "      <th>2</th>\n",
       "      <td>South</td>\n",
       "      <td>1259</td>\n",
       "      <td>133</td>\n",
       "      <td>False</td>\n",
       "    </tr>\n",
       "    <tr>\n",
       "      <th>3</th>\n",
       "      <td>North</td>\n",
       "      <td>1427</td>\n",
       "      <td>27</td>\n",
       "      <td>False</td>\n",
       "    </tr>\n",
       "    <tr>\n",
       "      <th>4</th>\n",
       "      <td>North</td>\n",
       "      <td>1724</td>\n",
       "      <td>6</td>\n",
       "      <td>False</td>\n",
       "    </tr>\n",
       "    <tr>\n",
       "      <th>5</th>\n",
       "      <td>South</td>\n",
       "      <td>1175</td>\n",
       "      <td>107</td>\n",
       "      <td>False</td>\n",
       "    </tr>\n",
       "    <tr>\n",
       "      <th>6</th>\n",
       "      <td>South</td>\n",
       "      <td>1486</td>\n",
       "      <td>5</td>\n",
       "      <td>False</td>\n",
       "    </tr>\n",
       "    <tr>\n",
       "      <th>7</th>\n",
       "      <td>South</td>\n",
       "      <td>1456</td>\n",
       "      <td>90</td>\n",
       "      <td>False</td>\n",
       "    </tr>\n",
       "    <tr>\n",
       "      <th>8</th>\n",
       "      <td>North</td>\n",
       "      <td>1696</td>\n",
       "      <td>6</td>\n",
       "      <td>False</td>\n",
       "    </tr>\n",
       "    <tr>\n",
       "      <th>9</th>\n",
       "      <td>South</td>\n",
       "      <td>1236</td>\n",
       "      <td>101</td>\n",
       "      <td>False</td>\n",
       "    </tr>\n",
       "    <tr>\n",
       "      <th>10</th>\n",
       "      <td>North</td>\n",
       "      <td>1711</td>\n",
       "      <td>13</td>\n",
       "      <td>False</td>\n",
       "    </tr>\n",
       "    <tr>\n",
       "      <th>11</th>\n",
       "      <td>North</td>\n",
       "      <td>1444</td>\n",
       "      <td>14</td>\n",
       "      <td>False</td>\n",
       "    </tr>\n",
       "    <tr>\n",
       "      <th>12</th>\n",
       "      <td>North</td>\n",
       "      <td>1591</td>\n",
       "      <td>49</td>\n",
       "      <td>False</td>\n",
       "    </tr>\n",
       "    <tr>\n",
       "      <th>14</th>\n",
       "      <td>North</td>\n",
       "      <td>1495</td>\n",
       "      <td>14</td>\n",
       "      <td>False</td>\n",
       "    </tr>\n",
       "    <tr>\n",
       "      <th>15</th>\n",
       "      <td>South</td>\n",
       "      <td>1369</td>\n",
       "      <td>68</td>\n",
       "      <td>False</td>\n",
       "    </tr>\n",
       "    <tr>\n",
       "      <th>16</th>\n",
       "      <td>South</td>\n",
       "      <td>1257</td>\n",
       "      <td>50</td>\n",
       "      <td>False</td>\n",
       "    </tr>\n",
       "    <tr>\n",
       "      <th>17</th>\n",
       "      <td>North</td>\n",
       "      <td>1587</td>\n",
       "      <td>75</td>\n",
       "      <td>False</td>\n",
       "    </tr>\n",
       "    <tr>\n",
       "      <th>18</th>\n",
       "      <td>North</td>\n",
       "      <td>1713</td>\n",
       "      <td>71</td>\n",
       "      <td>False</td>\n",
       "    </tr>\n",
       "    <tr>\n",
       "      <th>19</th>\n",
       "      <td>North</td>\n",
       "      <td>1557</td>\n",
       "      <td>13</td>\n",
       "      <td>False</td>\n",
       "    </tr>\n",
       "    <tr>\n",
       "      <th>20</th>\n",
       "      <td>North</td>\n",
       "      <td>1640</td>\n",
       "      <td>57</td>\n",
       "      <td>False</td>\n",
       "    </tr>\n",
       "  </tbody>\n",
       "</table>\n",
       "</div>"
      ],
      "text/plain": [
       "    derby  mortality  calcium  Outlier\n",
       "0   South       1702       44    False\n",
       "1   South       1309       59    False\n",
       "2   South       1259      133    False\n",
       "3   North       1427       27    False\n",
       "4   North       1724        6    False\n",
       "5   South       1175      107    False\n",
       "6   South       1486        5    False\n",
       "7   South       1456       90    False\n",
       "8   North       1696        6    False\n",
       "9   South       1236      101    False\n",
       "10  North       1711       13    False\n",
       "11  North       1444       14    False\n",
       "12  North       1591       49    False\n",
       "14  North       1495       14    False\n",
       "15  South       1369       68    False\n",
       "16  South       1257       50    False\n",
       "17  North       1587       75    False\n",
       "18  North       1713       71    False\n",
       "19  North       1557       13    False\n",
       "20  North       1640       57    False"
      ]
     },
     "execution_count": 55,
     "metadata": {},
     "output_type": "execute_result"
    }
   ],
   "source": [
    "mortality_rates_without_outliers.head(20)"
   ]
  },
  {
   "cell_type": "code",
   "execution_count": 56,
   "id": "ed26067a-5e51-44e4-b2cc-fdf839be84fe",
   "metadata": {},
   "outputs": [
    {
     "name": "stdout",
     "output_type": "stream",
     "text": [
      "mean_1 = 1388.851851851852\n",
      "mean_2 = 1620.8181818181818\n",
      "p-value =  2.0021068045086088e-08\n",
      "Reject the HO. There is evidence that the average mortality rates are different in the two derbies.\n"
     ]
    }
   ],
   "source": [
    "south_without_outliers = np.array(mortality_rates_without_outliers[mortality_rates_without_outliers['derby']=='South']['mortality'][mortality_rates_without_outliers['Outlier']==False])\n",
    "north_without_outliers = np.array(mortality_rates_without_outliers[mortality_rates_without_outliers['derby']=='North']['mortality'][mortality_rates_without_outliers['Outlier']==False])\n",
    "\n",
    "#H0: mu_1 = mu_2\n",
    "#Ha: mu_1 =/= mu_2\n",
    "data = np.array(mortality_rates_without_outliers['mortality'])\n",
    "print('mean_1 =', np.mean(south_without_outliers))\n",
    "print('mean_2 =', np.mean(north_without_outliers))\n",
    "results_ind = stats.ttest_ind(south_without_outliers, north_without_outliers, equal_var=True, alternative='two-sided')\n",
    "print('p-value = ',results_ind.pvalue)\n",
    "\n",
    "print('Reject the HO. There is evidence that the average mortality rates are different in the two derbies.')"
   ]
  },
  {
   "cell_type": "code",
   "execution_count": 57,
   "id": "ab1acc7c-7936-47f4-8ccd-157f2b5648c1",
   "metadata": {},
   "outputs": [
    {
     "data": {
      "text/plain": [
       "<AxesSubplot:xlabel='derby', ylabel='mortality'>"
      ]
     },
     "execution_count": 57,
     "metadata": {},
     "output_type": "execute_result"
    },
    {
     "data": {
      "image/png": "[encoded data removed]",
      "text/plain": [
       "<Figure size 432x288 with 1 Axes>"
      ]
     },
     "metadata": {
      "needs_background": "light"
     },
     "output_type": "display_data"
    }
   ],
   "source": [
    "import seaborn as sns\n",
    "sns.boxplot(y='mortality', x='derby',\n",
    "            data=mortality_rates_without_outliers,\n",
    "            palette='colorblind')"
   ]
  },
  {
   "cell_type": "markdown",
   "id": "incorrect-interstate",
   "metadata": {},
   "source": [
    "## Problem 4\n",
    "A hygiene scientist decided to investigate just how effective washing with soap is in eliminating bacteria. To do this she tested four different methods—washing with water only, washing with regular soap, washing with antibacterial soap (ABS), and spraying hands with antibacterial spray (AS) (containing 65% ethanol as an active ingredient). She suspected that the number of bacteria on her hands before washing might vary considerably from day to day. To help even out the effects of those changes, she generated random numbers to determine the order of the four treatments. Each morning she washed her hands according to the treatment randomly chosen. Then she placed her right hand on a sterile media plate designed to encourage bacteria growth. She incubated each plate for 2 days at 36 °C after which she counted the bacteria colonies. She replicated this procedure 8 times for each of the four treatments. The data are given in `bacterial_counts.csv`.\n",
    "\n",
    "Is there evidence that the average bacterial counts are different for the four methods she tested?"
   ]
  },
  {
   "cell_type": "code",
   "execution_count": 26,
   "id": "intensive-globe",
   "metadata": {},
   "outputs": [
    {
     "data": {
      "text/html": [
       "<div>\n",
       "<style scoped>\n",
       "    .dataframe tbody tr th:only-of-type {\n",
       "        vertical-align: middle;\n",
       "    }\n",
       "\n",
       "    .dataframe tbody tr th {\n",
       "        vertical-align: top;\n",
       "    }\n",
       "\n",
       "    .dataframe thead th {\n",
       "        text-align: right;\n",
       "    }\n",
       "</style>\n",
       "<table border=\"1\" class=\"dataframe\">\n",
       "  <thead>\n",
       "    <tr style=\"text-align: right;\">\n",
       "      <th></th>\n",
       "      <th>method</th>\n",
       "      <th>bacterial_count</th>\n",
       "    </tr>\n",
       "  </thead>\n",
       "  <tbody>\n",
       "    <tr>\n",
       "      <th>0</th>\n",
       "      <td>water</td>\n",
       "      <td>74</td>\n",
       "    </tr>\n",
       "    <tr>\n",
       "      <th>1</th>\n",
       "      <td>soap</td>\n",
       "      <td>84</td>\n",
       "    </tr>\n",
       "    <tr>\n",
       "      <th>2</th>\n",
       "      <td>antibacterial soap</td>\n",
       "      <td>70</td>\n",
       "    </tr>\n",
       "    <tr>\n",
       "      <th>3</th>\n",
       "      <td>alcohol spray</td>\n",
       "      <td>51</td>\n",
       "    </tr>\n",
       "    <tr>\n",
       "      <th>4</th>\n",
       "      <td>water</td>\n",
       "      <td>135</td>\n",
       "    </tr>\n",
       "  </tbody>\n",
       "</table>\n",
       "</div>"
      ],
      "text/plain": [
       "               method  bacterial_count\n",
       "0               water               74\n",
       "1                soap               84\n",
       "2  antibacterial soap               70\n",
       "3       alcohol spray               51\n",
       "4               water              135"
      ]
     },
     "metadata": {},
     "output_type": "display_data"
    },
    {
     "data": {
      "text/plain": [
       "64"
      ]
     },
     "execution_count": 26,
     "metadata": {},
     "output_type": "execute_result"
    }
   ],
   "source": [
    "bacterial_counts = pd.read_csv('bacterial_counts.csv')\n",
    "display(bacterial_counts.head())\n",
    "bacterial_counts.size"
   ]
  },
  {
   "cell_type": "code",
   "execution_count": 28,
   "id": "761b8133-df62-40f2-a441-40460b081986",
   "metadata": {},
   "outputs": [],
   "source": [
    "water = bacterial_counts[(bacterial_counts['method'] == 'water')]\n",
    "soap = bacterial_counts[(bacterial_counts['method'] == 'soap')]\n",
    "antibacterial_soap = bacterial_counts[(bacterial_counts['method'] == 'antibacterial soap')]\n",
    "alcohol_spray = bacterial_counts[(bacterial_counts['method'] == 'alcohol spray')]"
   ]
  },
  {
   "cell_type": "code",
   "execution_count": 31,
   "id": "a2767447-cc83-42c2-ac04-16312f8bd5dd",
   "metadata": {},
   "outputs": [],
   "source": [
    "array_water = np.array(water['bacterial_count'])\n",
    "array_soap = np.array(soap['bacterial_count'])\n",
    "array_antibacterial_soap = np.array(antibacterial_soap['bacterial_count'])\n",
    "array_alcohol_spray = np.array(alcohol_spray['bacterial_count'])"
   ]
  },
  {
   "cell_type": "code",
   "execution_count": 33,
   "id": "664786a6-36e7-4e1b-9454-e1b1861288a1",
   "metadata": {},
   "outputs": [
    {
     "data": {
      "text/html": [
       "<div>\n",
       "<style scoped>\n",
       "    .dataframe tbody tr th:only-of-type {\n",
       "        vertical-align: middle;\n",
       "    }\n",
       "\n",
       "    .dataframe tbody tr th {\n",
       "        vertical-align: top;\n",
       "    }\n",
       "\n",
       "    .dataframe thead th {\n",
       "        text-align: right;\n",
       "    }\n",
       "</style>\n",
       "<table border=\"1\" class=\"dataframe\">\n",
       "  <thead>\n",
       "    <tr style=\"text-align: right;\">\n",
       "      <th></th>\n",
       "      <th>method</th>\n",
       "      <th>bacterial_count</th>\n",
       "    </tr>\n",
       "  </thead>\n",
       "  <tbody>\n",
       "    <tr>\n",
       "      <th>0</th>\n",
       "      <td>74</td>\n",
       "      <td>water</td>\n",
       "    </tr>\n",
       "    <tr>\n",
       "      <th>1</th>\n",
       "      <td>135</td>\n",
       "      <td>water</td>\n",
       "    </tr>\n",
       "    <tr>\n",
       "      <th>2</th>\n",
       "      <td>102</td>\n",
       "      <td>water</td>\n",
       "    </tr>\n",
       "    <tr>\n",
       "      <th>3</th>\n",
       "      <td>124</td>\n",
       "      <td>water</td>\n",
       "    </tr>\n",
       "    <tr>\n",
       "      <th>4</th>\n",
       "      <td>105</td>\n",
       "      <td>water</td>\n",
       "    </tr>\n",
       "    <tr>\n",
       "      <th>5</th>\n",
       "      <td>139</td>\n",
       "      <td>water</td>\n",
       "    </tr>\n",
       "    <tr>\n",
       "      <th>6</th>\n",
       "      <td>170</td>\n",
       "      <td>water</td>\n",
       "    </tr>\n",
       "    <tr>\n",
       "      <th>7</th>\n",
       "      <td>87</td>\n",
       "      <td>water</td>\n",
       "    </tr>\n",
       "    <tr>\n",
       "      <th>8</th>\n",
       "      <td>84</td>\n",
       "      <td>soap</td>\n",
       "    </tr>\n",
       "    <tr>\n",
       "      <th>9</th>\n",
       "      <td>51</td>\n",
       "      <td>soap</td>\n",
       "    </tr>\n",
       "    <tr>\n",
       "      <th>10</th>\n",
       "      <td>110</td>\n",
       "      <td>soap</td>\n",
       "    </tr>\n",
       "    <tr>\n",
       "      <th>11</th>\n",
       "      <td>67</td>\n",
       "      <td>soap</td>\n",
       "    </tr>\n",
       "    <tr>\n",
       "      <th>12</th>\n",
       "      <td>119</td>\n",
       "      <td>soap</td>\n",
       "    </tr>\n",
       "    <tr>\n",
       "      <th>13</th>\n",
       "      <td>108</td>\n",
       "      <td>soap</td>\n",
       "    </tr>\n",
       "    <tr>\n",
       "      <th>14</th>\n",
       "      <td>207</td>\n",
       "      <td>soap</td>\n",
       "    </tr>\n",
       "    <tr>\n",
       "      <th>15</th>\n",
       "      <td>102</td>\n",
       "      <td>soap</td>\n",
       "    </tr>\n",
       "    <tr>\n",
       "      <th>16</th>\n",
       "      <td>70</td>\n",
       "      <td>antibacterial soap</td>\n",
       "    </tr>\n",
       "    <tr>\n",
       "      <th>17</th>\n",
       "      <td>164</td>\n",
       "      <td>antibacterial soap</td>\n",
       "    </tr>\n",
       "    <tr>\n",
       "      <th>18</th>\n",
       "      <td>88</td>\n",
       "      <td>antibacterial soap</td>\n",
       "    </tr>\n",
       "    <tr>\n",
       "      <th>19</th>\n",
       "      <td>111</td>\n",
       "      <td>antibacterial soap</td>\n",
       "    </tr>\n",
       "    <tr>\n",
       "      <th>20</th>\n",
       "      <td>73</td>\n",
       "      <td>antibacterial soap</td>\n",
       "    </tr>\n",
       "    <tr>\n",
       "      <th>21</th>\n",
       "      <td>119</td>\n",
       "      <td>antibacterial soap</td>\n",
       "    </tr>\n",
       "    <tr>\n",
       "      <th>22</th>\n",
       "      <td>20</td>\n",
       "      <td>antibacterial soap</td>\n",
       "    </tr>\n",
       "    <tr>\n",
       "      <th>23</th>\n",
       "      <td>95</td>\n",
       "      <td>antibacterial soap</td>\n",
       "    </tr>\n",
       "    <tr>\n",
       "      <th>24</th>\n",
       "      <td>51</td>\n",
       "      <td>alcohol spray</td>\n",
       "    </tr>\n",
       "    <tr>\n",
       "      <th>25</th>\n",
       "      <td>5</td>\n",
       "      <td>alcohol spray</td>\n",
       "    </tr>\n",
       "    <tr>\n",
       "      <th>26</th>\n",
       "      <td>19</td>\n",
       "      <td>alcohol spray</td>\n",
       "    </tr>\n",
       "    <tr>\n",
       "      <th>27</th>\n",
       "      <td>18</td>\n",
       "      <td>alcohol spray</td>\n",
       "    </tr>\n",
       "    <tr>\n",
       "      <th>28</th>\n",
       "      <td>58</td>\n",
       "      <td>alcohol spray</td>\n",
       "    </tr>\n",
       "    <tr>\n",
       "      <th>29</th>\n",
       "      <td>50</td>\n",
       "      <td>alcohol spray</td>\n",
       "    </tr>\n",
       "    <tr>\n",
       "      <th>30</th>\n",
       "      <td>82</td>\n",
       "      <td>alcohol spray</td>\n",
       "    </tr>\n",
       "    <tr>\n",
       "      <th>31</th>\n",
       "      <td>17</td>\n",
       "      <td>alcohol spray</td>\n",
       "    </tr>\n",
       "  </tbody>\n",
       "</table>\n",
       "</div>"
      ],
      "text/plain": [
       "    method     bacterial_count\n",
       "0       74               water\n",
       "1      135               water\n",
       "2      102               water\n",
       "3      124               water\n",
       "4      105               water\n",
       "5      139               water\n",
       "6      170               water\n",
       "7       87               water\n",
       "8       84                soap\n",
       "9       51                soap\n",
       "10     110                soap\n",
       "11      67                soap\n",
       "12     119                soap\n",
       "13     108                soap\n",
       "14     207                soap\n",
       "15     102                soap\n",
       "16      70  antibacterial soap\n",
       "17     164  antibacterial soap\n",
       "18      88  antibacterial soap\n",
       "19     111  antibacterial soap\n",
       "20      73  antibacterial soap\n",
       "21     119  antibacterial soap\n",
       "22      20  antibacterial soap\n",
       "23      95  antibacterial soap\n",
       "24      51       alcohol spray\n",
       "25       5       alcohol spray\n",
       "26      19       alcohol spray\n",
       "27      18       alcohol spray\n",
       "28      58       alcohol spray\n",
       "29      50       alcohol spray\n",
       "30      82       alcohol spray\n",
       "31      17       alcohol spray"
      ]
     },
     "metadata": {},
     "output_type": "display_data"
    }
   ],
   "source": [
    "df = pd.DataFrame({'method' : np.concatenate([array_water, array_soap, array_antibacterial_soap, array_alcohol_spray]),\n",
    "                                'bacterial_count' : np.repeat(['water', 'soap', 'antibacterial soap', 'alcohol spray'], repeats=8)})\n",
    "display(df)"
   ]
  },
  {
   "cell_type": "code",
   "execution_count": 34,
   "id": "c37fb72b-40fa-43a8-aa9b-30d29c639730",
   "metadata": {},
   "outputs": [
    {
     "name": "stdout",
     "output_type": "stream",
     "text": [
      "             Multiple Comparison of Means - Tukey HSD, FWER=0.05              \n",
      "==============================================================================\n",
      "      group1             group2       meandiff p-adj   lower    upper   reject\n",
      "------------------------------------------------------------------------------\n",
      "     alcohol spray antibacterial soap     55.0  0.032   3.7359 106.2641   True\n",
      "     alcohol spray               soap     68.5 0.0056  17.2359 119.7641   True\n",
      "     alcohol spray              water     79.5 0.0012  28.2359 130.7641   True\n",
      "antibacterial soap               soap     13.5 0.8836 -37.7641  64.7641  False\n",
      "antibacterial soap              water     24.5 0.5612 -26.7641  75.7641  False\n",
      "              soap              water     11.0    0.9 -40.2641  62.2641  False\n",
      "------------------------------------------------------------------------------\n"
     ]
    }
   ],
   "source": [
    "# perform Tukey's HSD (Honestly Significant Difference) test\n",
    "tukey = pairwise_tukeyhsd(endog=df['method'],\n",
    "                          groups=df['bacterial_count'],\n",
    "                          alpha=0.05)\n",
    "\n",
    "# display results\n",
    "print(tukey)"
   ]
  },
  {
   "cell_type": "code",
   "execution_count": 35,
   "id": "55b2340a-460f-4801-b121-513220fa34f2",
   "metadata": {},
   "outputs": [
    {
     "name": "stdout",
     "output_type": "stream",
     "text": [
      "Group 1: water, soap, antibacterial soap\n",
      "Group 2: alcohol spray\n"
     ]
    }
   ],
   "source": [
    "print('Group 1: water, soap, antibacterial soap')\n",
    "print('Group 2: alcohol spray')"
   ]
  },
  {
   "cell_type": "markdown",
   "id": "radio-married",
   "metadata": {},
   "source": [
    "## Problem 5\n",
    "In July 1991, and again in April 2001, the *Gallup Poll* asked random samples of adults about their opinions on working parents. The given in `working_parents.csv` contains responses to the question \"Considering the needs of both parents and children, which of the following do you see as the ideal family in today’s society?\"\n",
    "\n",
    "Based on these data, is there evidence that there was a change in people’s attitudes during the 10 years between these polls? (in other words, are the responses in 1991 and 2001 independent)"
   ]
  },
  {
   "cell_type": "code",
   "execution_count": 37,
   "id": "tender-blood",
   "metadata": {},
   "outputs": [
    {
     "data": {
      "text/html": [
       "<div>\n",
       "<style scoped>\n",
       "    .dataframe tbody tr th:only-of-type {\n",
       "        vertical-align: middle;\n",
       "    }\n",
       "\n",
       "    .dataframe tbody tr th {\n",
       "        vertical-align: top;\n",
       "    }\n",
       "\n",
       "    .dataframe thead th {\n",
       "        text-align: right;\n",
       "    }\n",
       "</style>\n",
       "<table border=\"1\" class=\"dataframe\">\n",
       "  <thead>\n",
       "    <tr style=\"text-align: right;\">\n",
       "      <th></th>\n",
       "      <th>ideal_arrangement</th>\n",
       "      <th>year</th>\n",
       "    </tr>\n",
       "  </thead>\n",
       "  <tbody>\n",
       "    <tr>\n",
       "      <th>0</th>\n",
       "      <td>both_work_full_time</td>\n",
       "      <td>1991</td>\n",
       "    </tr>\n",
       "    <tr>\n",
       "      <th>1</th>\n",
       "      <td>both_work_full_time</td>\n",
       "      <td>1991</td>\n",
       "    </tr>\n",
       "    <tr>\n",
       "      <th>2</th>\n",
       "      <td>both_work_full_time</td>\n",
       "      <td>1991</td>\n",
       "    </tr>\n",
       "    <tr>\n",
       "      <th>3</th>\n",
       "      <td>both_work_full_time</td>\n",
       "      <td>1991</td>\n",
       "    </tr>\n",
       "    <tr>\n",
       "      <th>4</th>\n",
       "      <td>both_work_full_time</td>\n",
       "      <td>1991</td>\n",
       "    </tr>\n",
       "  </tbody>\n",
       "</table>\n",
       "</div>"
      ],
      "text/plain": [
       "     ideal_arrangement  year\n",
       "0  both_work_full_time  1991\n",
       "1  both_work_full_time  1991\n",
       "2  both_work_full_time  1991\n",
       "3  both_work_full_time  1991\n",
       "4  both_work_full_time  1991"
      ]
     },
     "metadata": {},
     "output_type": "display_data"
    },
    {
     "data": {
      "text/plain": [
       "(2030, 2)"
      ]
     },
     "execution_count": 37,
     "metadata": {},
     "output_type": "execute_result"
    }
   ],
   "source": [
    "df_working_parents = pd.read_csv('working_parents.csv')\n",
    "display(df_working_parents.head())\n",
    "df_working_parents.shape"
   ]
  },
  {
   "cell_type": "code",
   "execution_count": 41,
   "id": "f96447fa-b84d-4135-8a07-1a1bc2f12300",
   "metadata": {},
   "outputs": [
    {
     "data": {
      "text/html": [
       "<div>\n",
       "<style scoped>\n",
       "    .dataframe tbody tr th:only-of-type {\n",
       "        vertical-align: middle;\n",
       "    }\n",
       "\n",
       "    .dataframe tbody tr th {\n",
       "        vertical-align: top;\n",
       "    }\n",
       "\n",
       "    .dataframe thead th {\n",
       "        text-align: right;\n",
       "    }\n",
       "</style>\n",
       "<table border=\"1\" class=\"dataframe\">\n",
       "  <thead>\n",
       "    <tr style=\"text-align: right;\">\n",
       "      <th>year</th>\n",
       "      <th>1991</th>\n",
       "      <th>2001</th>\n",
       "    </tr>\n",
       "    <tr>\n",
       "      <th>ideal_arrangement</th>\n",
       "      <th></th>\n",
       "      <th></th>\n",
       "    </tr>\n",
       "  </thead>\n",
       "  <tbody>\n",
       "    <tr>\n",
       "      <th>both_work_full_time</th>\n",
       "      <td>142</td>\n",
       "      <td>131</td>\n",
       "    </tr>\n",
       "    <tr>\n",
       "      <th>no_opinion</th>\n",
       "      <td>51</td>\n",
       "      <td>51</td>\n",
       "    </tr>\n",
       "    <tr>\n",
       "      <th>one_works,other_stays_home_for_kids</th>\n",
       "      <td>396</td>\n",
       "      <td>416</td>\n",
       "    </tr>\n",
       "    <tr>\n",
       "      <th>one_works,other_works_at_home</th>\n",
       "      <td>152</td>\n",
       "      <td>173</td>\n",
       "    </tr>\n",
       "    <tr>\n",
       "      <th>one_works_full_time,other_part_time</th>\n",
       "      <td>274</td>\n",
       "      <td>244</td>\n",
       "    </tr>\n",
       "  </tbody>\n",
       "</table>\n",
       "</div>"
      ],
      "text/plain": [
       "year                                 1991  2001\n",
       "ideal_arrangement                              \n",
       "both_work_full_time                   142   131\n",
       "no_opinion                             51    51\n",
       "one_works,other_stays_home_for_kids   396   416\n",
       "one_works,other_works_at_home         152   173\n",
       "one_works_full_time,other_part_time   274   244"
      ]
     },
     "metadata": {},
     "output_type": "display_data"
    },
    {
     "name": "stdout",
     "output_type": "stream",
     "text": [
      "chi_sq 4.030209095036681\n",
      "p-value = 0.4019329311784825\n",
      "df = 4\n",
      "expected data: \n",
      " [[136.5 136.5]\n",
      " [ 51.   51. ]\n",
      " [406.  406. ]\n",
      " [162.5 162.5]\n",
      " [259.  259. ]]\n",
      "Based on the data, there is NO evidence that has been a change of attitude during the 10 years!\n"
     ]
    }
   ],
   "source": [
    "# Ho:Change of people's attitude during the 10 years\n",
    "# Ha:People's attitude has NOT been changed during the 10 years\n",
    "\n",
    "obs_data = pd.crosstab(df_working_parents['ideal_arrangement'], df_working_parents['year'])\n",
    "display(obs_data)\n",
    "\n",
    "chi_sq, p_value, df, exp_data =stats.chi2_contingency(obs_data)\n",
    "print('chi_sq', chi_sq)\n",
    "print('p-value =', p_value)\n",
    "print('df =', df)\n",
    "print('expected data: \\n', exp_data)\n",
    "\n",
    "print('Based on the data, there is NO evidence that has been a change of attitude during the 10 years!')"
   ]
  },
  {
   "cell_type": "code",
   "execution_count": null,
   "id": "64f49eea-de65-4186-bafa-47cf7ce45350",
   "metadata": {},
   "outputs": [],
   "source": []
  }
 ],
 "metadata": {
  "kernelspec": {
   "display_name": "Python 3 (ipykernel)",
   "language": "python",
   "name": "python3"
  },
  "language_info": {
   "codemirror_mode": {
    "name": "ipython",
    "version": 3
   },
   "file_extension": ".py",
   "mimetype": "text/x-python",
   "name": "python",
   "nbconvert_exporter": "python",
   "pygments_lexer": "ipython3",
   "version": "3.9.7"
  }
 },
 "nbformat": 4,
 "nbformat_minor": 5
}
