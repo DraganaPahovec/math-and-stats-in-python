{
 "cells": [
  {
   "cell_type": "markdown",
   "id": "greatest-vitamin",
   "metadata": {
    "id": "greatest-vitamin"
   },
   "source": [
    "# Workshop #4: Descriptive Statistics & Intro to Probability"
   ]
  },
  {
   "cell_type": "code",
   "execution_count": 2,
   "id": "failing-leonard",
   "metadata": {
    "id": "failing-leonard"
   },
   "outputs": [],
   "source": [
    "#importing libraries\n",
    "import numpy as np\n",
    "import pandas as pd\n",
    "import matplotlib.pyplot as plt\n",
    "from matplotlib_venn import venn2, venn3, venn2_circles, venn3_circles\n",
    "import seaborn as sns\n",
    "import scipy.stats as stats\n",
    "import random"
   ]
  },
  {
   "cell_type": "markdown",
   "id": "integrated-shopper",
   "metadata": {
    "id": "integrated-shopper"
   },
   "source": [
    "## Problem 1\n",
    "Michael is throwing darts at a target. He is very good at the game, so the chances of him hitting the “bullseye” (i.e. the center) are 25%. It is reasonable to assume that individual **attempts are independent**. If he throws 5 times in total, what is the probability that he will hit the bullseye:\n",
    "* Exactly three times\n",
    "* at least 3 times\n",
    "\n",
    "Note: the exact numbers are:\n",
    "* `P(exactly three bullseyes) = 0.08789`\n",
    "* `P(at least three bullseyes) = 0.1035`"
   ]
  },
  {
   "cell_type": "code",
   "execution_count": 9,
   "id": "adverse-slovak",
   "metadata": {
    "id": "adverse-slovak"
   },
   "outputs": [
    {
     "name": "stdout",
     "output_type": "stream",
     "text": [
      "P(exactly three bullseye) =  0.08804\n",
      "P(at least three bullseye) =  0.10366\n"
     ]
    }
   ],
   "source": [
    "# We run a simulation\n",
    "\n",
    "n = 50000 # number of simulations\n",
    "throws = 5 # number of throws per simulation\n",
    "\n",
    "exactly_three_bull = 0\n",
    "at_least_three_bull = 0\n",
    "\n",
    "for i in range(n):\n",
    "    \n",
    "    hitting_in_the_center = 0\n",
    "    \n",
    "    for j in range (throws):\n",
    "        hitting_success = np.random.random()\n",
    "        if hitting_success <= 0.25:\n",
    "            hitting_in_the_center += 1\n",
    "    if hitting_in_the_center == 3:\n",
    "        exactly_three_bull +=1\n",
    "        \n",
    "    if hitting_in_the_center >=3:\n",
    "        at_least_three_bull += 1\n",
    "\n",
    "exactly_three_bull = exactly_three_bull/n\n",
    "at_least_three_bull = at_least_three_bull/n\n",
    "\n",
    "\n",
    "# Printing the conclusions\n",
    "print('P(exactly three bullseye) = ', exactly_three_bull)\n",
    "print('P(at least three bullseye) = ', at_least_three_bull)"
   ]
  },
  {
   "cell_type": "markdown",
   "id": "funded-elimination",
   "metadata": {
    "id": "funded-elimination"
   },
   "source": [
    "## Problem 2\n",
    "Only two international airlines fly daily into an airport. UN Air has 70 flights a day and IS Air has 65 flights a day. Passengers flying with UN Air have an 18% probability of losing their luggage and passengers flying with IS Air have a 23% probability of losing their luggage. You overhear someone in the airport complain about her luggage being lost. Find the probability that she travelled with IS Air.\n",
    "\n",
    "Note: the exact probability is `0.543`"
   ]
  },
  {
   "cell_type": "code",
   "execution_count": 29,
   "id": "satisfied-helena",
   "metadata": {
    "id": "satisfied-helena"
   },
   "outputs": [
    {
     "name": "stdout",
     "output_type": "stream",
     "text": [
      "P(IS lost luggage to all lost luggage) =  0.5413461538461539\n"
     ]
    }
   ],
   "source": [
    "# We run a simulation\n",
    "n = 5000 # number of simulations\n",
    "\n",
    "all_lost = 0\n",
    "IS_lost_luggage = 0\n",
    "UN_lost_luggage = 0\n",
    "\n",
    "for i in range(n):\n",
    "\n",
    "    IS = np.random.random()\n",
    "    lost_luggage = np.random.random()\n",
    "\n",
    "    if IS <= 65/135:\n",
    "        if lost_luggage <= 0.23:\n",
    "            all_lost +=1\n",
    "            IS_lost_luggage +=1\n",
    "         \n",
    "    else:\n",
    "        if lost_luggage <0.18:\n",
    "            all_lost +=1\n",
    "            UN_lost_luggage +=1\n",
    "            \n",
    "print('P(IS lost luggage to all lost luggage) = ', (IS_lost_luggage/n)/(all_lost/n))           "
   ]
  },
  {
   "cell_type": "markdown",
   "id": "LmVk0pvmbAAz",
   "metadata": {
    "id": "LmVk0pvmbAAz"
   },
   "source": [
    "## Problem 3\n",
    "\n",
    "The five most common words appearing in spam emails are shipping!, today!, here!, available, and fingertips! (Andy Greenberg, “The Most Common Words In Spam Email,” Forbes website, March 17, 2010). Many spam filters separate spam from ham (email not considered to be spam) through application of Bayes’ theorem. Suppose that for one email account, 1 in every 10 messages is spam and the proportions of spam messages that have the five most common words in spam email are given below.\n",
    "\n",
    "| Word        \t| Probability \t|\n",
    "|-------------\t|-------------\t|\n",
    "| shipping!   \t| 0.051       \t|\n",
    "| today!      \t| 0.045       \t|\n",
    "| here!       \t| 0.034       \t|\n",
    "| available   \t| 0.014       \t|\n",
    "| fingertips! \t| 0.014       \t|\n",
    "\n",
    "\n",
    "Also suppose that the proportions of ham messages that have these words are:\n",
    "\n",
    "| Word        \t| Probability \t|\n",
    "|-------------\t|-------------\t|\n",
    "| shipping!   \t| 0.0015      \t|\n",
    "| today!      \t| 0.0022      \t|\n",
    "| here!       \t| 0.0022      \t|\n",
    "| available   \t| 0.0041      \t|\n",
    "| fingertips! \t| 0.0011      \t|\n",
    "\n",
    "a) If a message includes the word shipping!, what is the probability the message is spam? If a message includes the word shipping!, what is the probability the message is ham? Should messages that include the word shipping! be flagged as spam?\n",
    "\n",
    "b) If a message includes the word today!, what is the probability the message is spam? If a message includes the word here!, what is the probability the message is spam? Which of these two words is a stronger indicator that a message is spam? Why?\n",
    "\n",
    "c) If a message includes the word available, what is the probability the message is spam? If a message includes the word fingertips!, what is the probability the message is spam? Which of these two words is a stronger indicator that a message is spam? Why?\n",
    "\n",
    "d) What insights do the results of parts b) and c) yield about what enables a spam filter that uses Bayes’ theorem to work effectively?"
   ]
  },
  {
   "cell_type": "code",
   "execution_count": 61,
   "id": "2PWDswkKXTbF",
   "metadata": {
    "id": "2PWDswkKXTbF"
   },
   "outputs": [
    {
     "data": {
      "text/html": [
       "<div>\n",
       "<style scoped>\n",
       "    .dataframe tbody tr th:only-of-type {\n",
       "        vertical-align: middle;\n",
       "    }\n",
       "\n",
       "    .dataframe tbody tr th {\n",
       "        vertical-align: top;\n",
       "    }\n",
       "\n",
       "    .dataframe thead th {\n",
       "        text-align: right;\n",
       "    }\n",
       "</style>\n",
       "<table border=\"1\" class=\"dataframe\">\n",
       "  <thead>\n",
       "    <tr style=\"text-align: right;\">\n",
       "      <th></th>\n",
       "      <th>Spam words</th>\n",
       "      <th>Probability</th>\n",
       "    </tr>\n",
       "  </thead>\n",
       "  <tbody>\n",
       "    <tr>\n",
       "      <th>0</th>\n",
       "      <td>shipping!</td>\n",
       "      <td>0.051</td>\n",
       "    </tr>\n",
       "    <tr>\n",
       "      <th>1</th>\n",
       "      <td>today!</td>\n",
       "      <td>0.045</td>\n",
       "    </tr>\n",
       "    <tr>\n",
       "      <th>2</th>\n",
       "      <td>here!</td>\n",
       "      <td>0.034</td>\n",
       "    </tr>\n",
       "    <tr>\n",
       "      <th>3</th>\n",
       "      <td>available</td>\n",
       "      <td>0.014</td>\n",
       "    </tr>\n",
       "    <tr>\n",
       "      <th>4</th>\n",
       "      <td>fingertips!</td>\n",
       "      <td>0.014</td>\n",
       "    </tr>\n",
       "  </tbody>\n",
       "</table>\n",
       "</div>"
      ],
      "text/plain": [
       "    Spam words  Probability\n",
       "0    shipping!        0.051\n",
       "1       today!        0.045\n",
       "2        here!        0.034\n",
       "3    available        0.014\n",
       "4  fingertips!        0.014"
      ]
     },
     "execution_count": 61,
     "metadata": {},
     "output_type": "execute_result"
    }
   ],
   "source": [
    "\n",
    "spam_words = {'Spam words': ['shipping!', 'today!', 'here!', 'available', 'fingertips!'], 'Probability': [0.051, 0.045, 0.034, 0.014, 0.014]}\n",
    "df_spam_words = pd.DataFrame(spam_words)\n",
    "df_spam_words\n"
   ]
  },
  {
   "cell_type": "code",
   "execution_count": 62,
   "id": "4f808d18-1db7-4166-b618-7c18f48d91a4",
   "metadata": {},
   "outputs": [
    {
     "data": {
      "text/html": [
       "<div>\n",
       "<style scoped>\n",
       "    .dataframe tbody tr th:only-of-type {\n",
       "        vertical-align: middle;\n",
       "    }\n",
       "\n",
       "    .dataframe tbody tr th {\n",
       "        vertical-align: top;\n",
       "    }\n",
       "\n",
       "    .dataframe thead th {\n",
       "        text-align: right;\n",
       "    }\n",
       "</style>\n",
       "<table border=\"1\" class=\"dataframe\">\n",
       "  <thead>\n",
       "    <tr style=\"text-align: right;\">\n",
       "      <th></th>\n",
       "      <th>Ham words</th>\n",
       "      <th>Probability</th>\n",
       "    </tr>\n",
       "  </thead>\n",
       "  <tbody>\n",
       "    <tr>\n",
       "      <th>0</th>\n",
       "      <td>shipping!</td>\n",
       "      <td>0.0015</td>\n",
       "    </tr>\n",
       "    <tr>\n",
       "      <th>1</th>\n",
       "      <td>today!</td>\n",
       "      <td>0.0022</td>\n",
       "    </tr>\n",
       "    <tr>\n",
       "      <th>2</th>\n",
       "      <td>here!</td>\n",
       "      <td>0.0022</td>\n",
       "    </tr>\n",
       "    <tr>\n",
       "      <th>3</th>\n",
       "      <td>available</td>\n",
       "      <td>0.0041</td>\n",
       "    </tr>\n",
       "    <tr>\n",
       "      <th>4</th>\n",
       "      <td>fingertips!</td>\n",
       "      <td>0.0011</td>\n",
       "    </tr>\n",
       "  </tbody>\n",
       "</table>\n",
       "</div>"
      ],
      "text/plain": [
       "     Ham words  Probability\n",
       "0    shipping!       0.0015\n",
       "1       today!       0.0022\n",
       "2        here!       0.0022\n",
       "3    available       0.0041\n",
       "4  fingertips!       0.0011"
      ]
     },
     "execution_count": 62,
     "metadata": {},
     "output_type": "execute_result"
    }
   ],
   "source": [
    "ham_words = {'Ham words': ['shipping!', 'today!', 'here!', 'available', 'fingertips!'], 'Probability': [0.0015, 0.0022, 0.0022, 0.0041, 0.0011]}\n",
    "df_ham_words = pd.DataFrame(ham_words)\n",
    "df_ham_words"
   ]
  },
  {
   "cell_type": "code",
   "execution_count": 98,
   "id": "4fbcf9b8-8727-4697-afd9-5408cdffd3e4",
   "metadata": {},
   "outputs": [
    {
     "name": "stdout",
     "output_type": "stream",
     "text": [
      "0.7861271676300579\n",
      "0.2138728323699422\n"
     ]
    }
   ],
   "source": [
    "# a) If a message includes the word shipping!, what is the probability the message is spam? If a message includes the word shipping!,\n",
    "#what is the probability the message is ham? Should messages that include the word shipping! be flagged as spam?\n",
    "# Run simulations\n",
    "n = 100000 # number of simulations\n",
    "\n",
    "shipping = 0\n",
    "spam_shipping = 0\n",
    "ham_shipping = 0\n",
    "\n",
    "for i in range(n):\n",
    "\n",
    "    spam = np.random.random()\n",
    "    word_shipping = np.random.random()\n",
    "\n",
    "    if spam <= 0.1:\n",
    "        if word_shipping <= 0.051:\n",
    "            shipping +=1\n",
    "            spam_shipping +=1\n",
    "         \n",
    "    else:\n",
    "        if word_shipping <= 0.0015:\n",
    "            shipping +=1\n",
    "            ham_shipping +=1\n",
    "    \n",
    "            \n",
    "print(spam_shipping/shipping)\n",
    "print(ham_shipping/shipping)\n"
   ]
  },
  {
   "cell_type": "code",
   "execution_count": 134,
   "id": "26b360ec-9283-4ace-8c5e-30e95d16f72d",
   "metadata": {},
   "outputs": [
    {
     "name": "stdout",
     "output_type": "stream",
     "text": [
      "The word today is a stronger indicator that the message is a spam with P 0.698340874811463, compared to the word here with probability of 0.6247334754797441\n"
     ]
    }
   ],
   "source": [
    "#b) If a message includes the word today!, what is the probability the message is spam? If a message includes the word here!, \n",
    "#what is the probability the message is spam? Which of these two words is a stronger indicator that a message is spam? Why?\n",
    "n = 100000 # number of simulations\n",
    "\n",
    "today = 0\n",
    "spam_today = 0\n",
    "ham_today = 0\n",
    "\n",
    "for i in range(n):\n",
    "\n",
    "    spam = np.random.random()\n",
    "    word_today = np.random.random()\n",
    "\n",
    "    if spam <= 0.1:\n",
    "        if word_today <= 0.045:\n",
    "            today +=1\n",
    "            spam_today +=1\n",
    "         \n",
    "    else:\n",
    "        if word_today <= 0.0022:\n",
    "            today +=1\n",
    "            ham_today +=1\n",
    "    \n",
    "\n",
    "    \n",
    "here = 0\n",
    "spam_here = 0\n",
    "ham_here = 0\n",
    "\n",
    "for i in range(n):\n",
    "\n",
    "    spam = np.random.random()\n",
    "    word_here = np.random.random()\n",
    "\n",
    "    if spam <= 0.1:\n",
    "        if word_here <= 0.034:\n",
    "            here +=1\n",
    "            spam_here +=1\n",
    "         \n",
    "    else:\n",
    "        if word_here <= 0.0022:\n",
    "            here +=1\n",
    "            ham_here +=1    \n",
    "    \n",
    "\n",
    "print(f'The word today is a stronger indicator that the message is a spam with P {spam_today/today}, compared to the word here with probability of {spam_here/here}')"
   ]
  },
  {
   "cell_type": "code",
   "execution_count": 131,
   "id": "8f072196-bfc9-408f-87a6-d4e85fa73cd3",
   "metadata": {},
   "outputs": [
    {
     "name": "stdout",
     "output_type": "stream",
     "text": [
      "The word fingertips is a stronger indicator that the message is a spam with P 0.5905797101449275, compared to word available with probability of 0.2607758620689655\n"
     ]
    }
   ],
   "source": [
    "#c) If a message includes the word available, what is the probability the message is spam? If a message includes the word fingertips!, what is the probability the message is spam? \n",
    "#Which of these two words is a stronger indicator that a message is spam? Why?\n",
    "\n",
    "n = 100000 # number of simulations\n",
    "\n",
    "available = 0\n",
    "spam_available = 0\n",
    "ham_available = 0\n",
    "\n",
    "for i in range(n):\n",
    "\n",
    "    spam = np.random.random()\n",
    "    word_available = np.random.random()\n",
    "\n",
    "    if spam <= 0.1:\n",
    "        if word_available <= 0.014:\n",
    "            available +=1\n",
    "            spam_available +=1\n",
    "         \n",
    "    else:\n",
    "        if word_available <= 0.0041:\n",
    "            available +=1\n",
    "            ham_available +=1\n",
    "    \n",
    "    \n",
    "fingertips = 0\n",
    "spam_fingertips = 0\n",
    "ham_fingertips = 0\n",
    "\n",
    "for i in range(n):\n",
    "\n",
    "    spam = np.random.random()\n",
    "    word_fingertips = np.random.random()\n",
    "\n",
    "    if spam <= 0.1:\n",
    "        if word_fingertips <= 0.014:\n",
    "            fingertips +=1\n",
    "            spam_fingertips +=1\n",
    "         \n",
    "    else:\n",
    "        if word_fingertips <= 0.0011:\n",
    "            fingertips +=1\n",
    "            ham_fingertips +=1    \n",
    "    \n",
    "\n",
    "print(f'The word fingertips is a stronger indicator that the message is a spam with P {spam_fingertips/fingertips}, compared to word available with probability of {spam_available/available}')\n"
   ]
  },
  {
   "cell_type": "code",
   "execution_count": 138,
   "id": "ab2d7ca4-5822-4167-9eda-761edb575921",
   "metadata": {},
   "outputs": [
    {
     "name": "stdout",
     "output_type": "stream",
     "text": [
      "Using Bayes theorem, it can be realized that based on our simulation on 100.000 samples, the less likely probability that a message will be categorized as a spam message is if this message contains the word available, while the most likely the message to be categorized as spam message is if it contains the word today.\n"
     ]
    }
   ],
   "source": [
    "#d) What insights do the results of parts b) and c) yield about what enables a spam filter that uses Bayes’ theorem to work effectively?\n",
    "\n",
    "print('Using Bayes theorem, it can be realized that based on our simulation on 100.000 samples, the less likely probability that a message will be categorized as a spam message is if this message contains the word available, while the most likely the message to be categorized as spam message is if it contains the word today.' )"
   ]
  },
  {
   "cell_type": "markdown",
   "id": "underlying-soldier",
   "metadata": {
    "id": "underlying-soldier"
   },
   "source": [
    "## Problem 4\n",
    "The file `major_salary.csv` contains data about monthly salaries and majors for some emplyees.\n",
    "* Consider all the salary data. Construct a histogram and a box plot to visualize the distribution of the salaries. Then calculate the Five-Number-Summary of the salaries for all employees and the skewness coefficient.\n",
    "* Using the **1.5×IQR rule**, identify and list any outliers in the set of all salaries.\n",
    "* Now consider the data about the salaries *categorized by major*. Visualize the salaries for each major by box-plots in one graph (**use seaborn exactly as the one we did on Monday for the fuel data**). Comment the results."
   ]
  },
  {
   "cell_type": "code",
   "execution_count": 140,
   "id": "together-customs",
   "metadata": {
    "id": "together-customs"
   },
   "outputs": [
    {
     "name": "stdout",
     "output_type": "stream",
     "text": [
      "<class 'pandas.core.frame.DataFrame'>\n",
      "RangeIndex: 111 entries, 0 to 110\n",
      "Data columns (total 2 columns):\n",
      " #   Column  Non-Null Count  Dtype \n",
      "---  ------  --------------  ----- \n",
      " 0   major   111 non-null    object\n",
      " 1   salary  111 non-null    int64 \n",
      "dtypes: int64(1), object(1)\n",
      "memory usage: 1.9+ KB\n"
     ]
    }
   ],
   "source": [
    "# Loading the data\n",
    "df = pd.read_csv('major_salary.csv')\n",
    "df.info()"
   ]
  },
  {
   "cell_type": "code",
   "execution_count": 141,
   "id": "2f669615-d58f-4ff2-ad6e-092e68238a4b",
   "metadata": {},
   "outputs": [
    {
     "data": {
      "text/html": [
       "<div>\n",
       "<style scoped>\n",
       "    .dataframe tbody tr th:only-of-type {\n",
       "        vertical-align: middle;\n",
       "    }\n",
       "\n",
       "    .dataframe tbody tr th {\n",
       "        vertical-align: top;\n",
       "    }\n",
       "\n",
       "    .dataframe thead th {\n",
       "        text-align: right;\n",
       "    }\n",
       "</style>\n",
       "<table border=\"1\" class=\"dataframe\">\n",
       "  <thead>\n",
       "    <tr style=\"text-align: right;\">\n",
       "      <th></th>\n",
       "      <th>major</th>\n",
       "      <th>salary</th>\n",
       "    </tr>\n",
       "  </thead>\n",
       "  <tbody>\n",
       "    <tr>\n",
       "      <th>0</th>\n",
       "      <td>Management</td>\n",
       "      <td>3330</td>\n",
       "    </tr>\n",
       "    <tr>\n",
       "      <th>1</th>\n",
       "      <td>Management</td>\n",
       "      <td>2700</td>\n",
       "    </tr>\n",
       "    <tr>\n",
       "      <th>2</th>\n",
       "      <td>Finance</td>\n",
       "      <td>3155</td>\n",
       "    </tr>\n",
       "    <tr>\n",
       "      <th>3</th>\n",
       "      <td>Accounting</td>\n",
       "      <td>3855</td>\n",
       "    </tr>\n",
       "    <tr>\n",
       "      <th>4</th>\n",
       "      <td>Info Systems</td>\n",
       "      <td>4220</td>\n",
       "    </tr>\n",
       "    <tr>\n",
       "      <th>...</th>\n",
       "      <td>...</td>\n",
       "      <td>...</td>\n",
       "    </tr>\n",
       "    <tr>\n",
       "      <th>106</th>\n",
       "      <td>Management</td>\n",
       "      <td>3080</td>\n",
       "    </tr>\n",
       "    <tr>\n",
       "      <th>107</th>\n",
       "      <td>Management</td>\n",
       "      <td>3615</td>\n",
       "    </tr>\n",
       "    <tr>\n",
       "      <th>108</th>\n",
       "      <td>Finance</td>\n",
       "      <td>3800</td>\n",
       "    </tr>\n",
       "    <tr>\n",
       "      <th>109</th>\n",
       "      <td>Info Systems</td>\n",
       "      <td>2830</td>\n",
       "    </tr>\n",
       "    <tr>\n",
       "      <th>110</th>\n",
       "      <td>Marketing</td>\n",
       "      <td>2530</td>\n",
       "    </tr>\n",
       "  </tbody>\n",
       "</table>\n",
       "<p>111 rows × 2 columns</p>\n",
       "</div>"
      ],
      "text/plain": [
       "            major  salary\n",
       "0      Management    3330\n",
       "1      Management    2700\n",
       "2         Finance    3155\n",
       "3      Accounting    3855\n",
       "4    Info Systems    4220\n",
       "..            ...     ...\n",
       "106    Management    3080\n",
       "107    Management    3615\n",
       "108       Finance    3800\n",
       "109  Info Systems    2830\n",
       "110     Marketing    2530\n",
       "\n",
       "[111 rows x 2 columns]"
      ]
     },
     "execution_count": 141,
     "metadata": {},
     "output_type": "execute_result"
    }
   ],
   "source": [
    "df"
   ]
  },
  {
   "cell_type": "code",
   "execution_count": 15,
   "id": "1a4552bb-d6ad-406c-9f68-aa5e29f503fd",
   "metadata": {},
   "outputs": [
    {
     "data": {
      "text/plain": [
       "10.535653752852738"
      ]
     },
     "execution_count": 15,
     "metadata": {},
     "output_type": "execute_result"
    }
   ],
   "source": [
    "np.sqrt(111)"
   ]
  },
  {
   "cell_type": "code",
   "execution_count": 142,
   "id": "agreed-addition",
   "metadata": {
    "id": "agreed-addition"
   },
   "outputs": [
    {
     "name": "stdout",
     "output_type": "stream",
     "text": [
      "This is the five nmber summary for the salaries:\n",
      "min =  2240\n",
      "Q1 =  3165.0\n",
      "Median =  3645.0\n",
      "Q3 =  4025.0\n",
      "max =  2240\n"
     ]
    },
    {
     "data": {
      "text/plain": [
       "{'whiskers': [<matplotlib.lines.Line2D at 0x1a612c9e7c0>,\n",
       "  <matplotlib.lines.Line2D at 0x1a612cbb940>],\n",
       " 'caps': [<matplotlib.lines.Line2D at 0x1a612cbb820>,\n",
       "  <matplotlib.lines.Line2D at 0x1a612cbbbe0>],\n",
       " 'boxes': [<matplotlib.lines.Line2D at 0x1a612c9efd0>],\n",
       " 'medians': [<matplotlib.lines.Line2D at 0x1a612cbb430>],\n",
       " 'fliers': [<matplotlib.lines.Line2D at 0x1a612cb6460>],\n",
       " 'means': []}"
      ]
     },
     "execution_count": 142,
     "metadata": {},
     "output_type": "execute_result"
    },
    {
     "data": {
      "image/png": "[encoded data removed]",
      "text/plain": [
       "<Figure size 432x288 with 1 Axes>"
      ]
     },
     "metadata": {
      "needs_background": "light"
     },
     "output_type": "display_data"
    },
    {
     "data": {
      "image/png": "[encoded data removed]",
      "text/plain": [
       "<Figure size 720x432 with 1 Axes>"
      ]
     },
     "metadata": {
      "needs_background": "light"
     },
     "output_type": "display_data"
    }
   ],
   "source": [
    "# Constructing histogram and box-plot of the salaries\n",
    "df['salary'].plot.hist()\n",
    "# Calculating the five-number summary\n",
    "salary = df['salary']\n",
    "\n",
    "min_salary = salary.min()\n",
    "Q1_salary = np.percentile(salary,25)\n",
    "median_salary = salary.median()\n",
    "Q3_salary = np.percentile(salary,75)\n",
    "max_salary = salary.min()\n",
    "\n",
    "print('This is the five nmber summary for the salaries:')\n",
    "\n",
    "print('min = ', min_salary)\n",
    "print('Q1 = ', Q1_salary)\n",
    "print('Median = ', median_salary)\n",
    "print('Q3 = ', Q3_salary)\n",
    "print('max = ', max_salary)\n",
    "\n",
    "plt.figure(figsize=(10,6))\n",
    "plt.boxplot(salary)"
   ]
  },
  {
   "cell_type": "code",
   "execution_count": 25,
   "id": "85de8b19-be5b-4d7d-96e7-8087294a9c48",
   "metadata": {},
   "outputs": [
    {
     "data": {
      "text/plain": [
       "count     111.000000\n",
       "mean     3640.225225\n",
       "std       651.802880\n",
       "min      2240.000000\n",
       "25%      3165.000000\n",
       "50%      3645.000000\n",
       "75%      4025.000000\n",
       "max      5650.000000\n",
       "Name: salary, dtype: float64"
      ]
     },
     "execution_count": 25,
     "metadata": {},
     "output_type": "execute_result"
    }
   ],
   "source": [
    "df['salary'].describe() # alternative way"
   ]
  },
  {
   "cell_type": "code",
   "execution_count": 146,
   "id": "useful-ground",
   "metadata": {
    "id": "useful-ground"
   },
   "outputs": [],
   "source": [
    "# Listing outliers with the 1.5*IQR Rule\n",
    "IQR = Q3_salary - Q1_salary\n",
    "\n",
    "L = Q1_salary - 1.5*IQR\n",
    "U = Q3_salary + 1.5*IQR\n",
    "\n",
    "salary = pd.DataFrame(salary)\n",
    "\n",
    "salary ['Outlier'] = ((salary['salary'] < L) | (salary['salary'] > U))\n",
    "\n",
    "salary_clean = salary.loc[salary['Outlier'] == True]\n",
    "salary_with_outliers = salary['salary']"
   ]
  },
  {
   "cell_type": "code",
   "execution_count": 147,
   "id": "9c899f09-5a8c-4331-bd4e-b86cce9a4ee6",
   "metadata": {},
   "outputs": [
    {
     "data": {
      "text/html": [
       "<div>\n",
       "<style scoped>\n",
       "    .dataframe tbody tr th:only-of-type {\n",
       "        vertical-align: middle;\n",
       "    }\n",
       "\n",
       "    .dataframe tbody tr th {\n",
       "        vertical-align: top;\n",
       "    }\n",
       "\n",
       "    .dataframe thead th {\n",
       "        text-align: right;\n",
       "    }\n",
       "</style>\n",
       "<table border=\"1\" class=\"dataframe\">\n",
       "  <thead>\n",
       "    <tr style=\"text-align: right;\">\n",
       "      <th></th>\n",
       "      <th>salary</th>\n",
       "      <th>Outlier</th>\n",
       "    </tr>\n",
       "  </thead>\n",
       "  <tbody>\n",
       "    <tr>\n",
       "      <th>83</th>\n",
       "      <td>5650</td>\n",
       "      <td>True</td>\n",
       "    </tr>\n",
       "    <tr>\n",
       "      <th>94</th>\n",
       "      <td>5500</td>\n",
       "      <td>True</td>\n",
       "    </tr>\n",
       "  </tbody>\n",
       "</table>\n",
       "</div>"
      ],
      "text/plain": [
       "    salary  Outlier\n",
       "83    5650     True\n",
       "94    5500     True"
      ]
     },
     "execution_count": 147,
     "metadata": {},
     "output_type": "execute_result"
    }
   ],
   "source": [
    "salary_clean"
   ]
  },
  {
   "cell_type": "code",
   "execution_count": 29,
   "id": "bfa4c25b-075c-49c3-aa22-c4732397c7e9",
   "metadata": {},
   "outputs": [
    {
     "data": {
      "text/plain": [
       "0      3330\n",
       "1      2700\n",
       "2      3155\n",
       "3      3855\n",
       "4      4220\n",
       "       ... \n",
       "106    3080\n",
       "107    3615\n",
       "108    3800\n",
       "109    2830\n",
       "110    2530\n",
       "Name: salary, Length: 111, dtype: int64"
      ]
     },
     "execution_count": 29,
     "metadata": {},
     "output_type": "execute_result"
    }
   ],
   "source": [
    "salary_with_outliers"
   ]
  },
  {
   "cell_type": "code",
   "execution_count": 143,
   "id": "delayed-judgment",
   "metadata": {
    "id": "delayed-judgment"
   },
   "outputs": [
    {
     "data": {
      "text/plain": [
       "<AxesSubplot:xlabel='major', ylabel='salary'>"
      ]
     },
     "execution_count": 143,
     "metadata": {},
     "output_type": "execute_result"
    },
    {
     "data": {
      "image/png": "[encoded data removed]",
      "text/plain": [
       "<Figure size 432x288 with 1 Axes>"
      ]
     },
     "metadata": {
      "needs_background": "light"
     },
     "output_type": "display_data"
    }
   ],
   "source": [
    "# Visualizing the salaries per major\n",
    "sns.boxplot(y='salary', x='major',\n",
    "            data=df,\n",
    "            palette='colorblind')\n"
   ]
  },
  {
   "cell_type": "markdown",
   "id": "IhJ89eooyJTA",
   "metadata": {
    "id": "IhJ89eooyJTA"
   },
   "source": [
    "## Problem 5\n",
    "\n",
    "Let $M_h$ and $F_h$ be the events \"the student's mother works in healthcare\" and \"student's father works in healthcare\", respectively. Find the conditional probabilities:\n",
    "* $P(M_h \\mid F_h)$\n",
    "* $P(F_h \\mid M_h)$\n",
    "\n",
    "Use `student-mat.csv`"
   ]
  },
  {
   "cell_type": "code",
   "execution_count": 3,
   "id": "74O2oGcScyev",
   "metadata": {
    "id": "74O2oGcScyev"
   },
   "outputs": [
    {
     "name": "stdout",
     "output_type": "stream",
     "text": [
      "P(Mh | Fh) =  0.3333333333333333\n",
      "P(Fh | Mh) =  0.17647058823529413\n"
     ]
    }
   ],
   "source": [
    "# Loading the data set\n",
    "df = pd.read_csv('student-mat.csv')\n",
    "df.head()\n",
    "\n",
    "# rows (the total)\n",
    "total = df.shape[0]\n",
    "# Using the formula: P(M_h | F_h) = P(M_h and F_h)/P(F_h)\n",
    "MhaFh = 0 \n",
    "\n",
    "for i in range(total):\n",
    "    if df['Mjob'][i] == 'health' and df['Fjob'][i] == 'health':\n",
    "        MhaFh += 1\n",
    "\n",
    "Fh = 0        \n",
    "\n",
    "for i in range(total):\n",
    "    if df['Fjob'][i] == 'health':\n",
    "        Fh += 1\n",
    "\n",
    "PMhaFh = MhaFh / Fh\n",
    "\n",
    "print('P(Mh | Fh) = ', PMhaFh)\n",
    "\n",
    "# Using the formula: P(F_h | M_h) = P(F_h and M_h)/P(M_h)\n",
    "FhaMh = 0 \n",
    "\n",
    "for i in range(total):\n",
    "    if df['Fjob'][i] == 'health' and df['Mjob'][i] == 'health':\n",
    "        FhaMh += 1\n",
    "\n",
    "Mh = 0        \n",
    "\n",
    "for i in range(total):\n",
    "    if df['Mjob'][i] == 'health':\n",
    "        Mh += 1\n",
    "\n",
    "PFhaMh = FhaMh / Mh\n",
    "\n",
    "print('P(Fh | Mh) = ', PFhaMh)\n"
   ]
  },
  {
   "cell_type": "markdown",
   "id": "hiHgDVJbwSzi",
   "metadata": {
    "id": "hiHgDVJbwSzi"
   },
   "source": [
    "## Problem 6\n",
    "\n",
    "The chemicals in clay used to make pottery can differ depending on the geographical region where the clay \n",
    "originated. Sometimes, archaeologists use a chemical analysis of clay to help identify where a piece of pottery \n",
    "originated. Such an analysis measures the amount of a chemical in the clay as a percent of the total weight \n",
    "of the piece of pottery. The boxplots below summarize analyses done for three chemicals—X, Y, and Z—on \n",
    "pieces of pottery that originated at one of three sites: I, II, or III.\n",
    "\n",
    "a) For chemical Z, describe how the percents found in the pieces of pottery are similar and how they differ \n",
    "among the three sites. \n",
    "\n",
    "b) Consider a piece of pottery known to have originated at one of the three sites, but the actual site is not \n",
    "known. \n",
    "\n",
    "    i) Suppose an analysis of the clay reveals that the sum of the percents of the three chemicals X, Y, \n",
    "    and Z is 20.5%. Based on the boxplots, which site—I, II, or III—is the most likely site where the piece \n",
    "    of pottery originated? Justify your choice.\n",
    "    \n",
    "    ii) Suppose only one chemical could be analyzed in the piece of pottery. Which chemical—X, Y, or \n",
    "    Z— would be the most useful in identifying the site where the piece of pottery originated? Justify \n",
    "    your choice.\n",
    "\n"
   ]
  },
  {
   "cell_type": "markdown",
   "id": "6d4c0727-93e9-4961-935b-fbedc903b0bd",
   "metadata": {
    "id": "0UrjZCVXwbNY"
   },
   "source": [
    "a) Answer: For all sites, the median of the percents of checmical Z found in the pieces of pottery is very close (about 7%). The spread of the checmical Z is greatest at the site 3 with and IQR of about 5%, the first site has the second in line greatest spread witn an IQR of around 5% (but a slightly smaller range of 6%, compared to site 3 where it is about 8%).  \n",
    "\n",
    "b) i) Answer: Supposing that the total percents of all three chemicals X, Y and Z is 20.5%, seems that site 3 is the most likely where the pice of pottery originated, since the sum of medians are a little over 20%. Site 1 has a sum of it's median's is much higher at about 27%, while site 2 at about 16%.\n",
    "\n",
    "b) ii) Answer: Chemical Y wold be the best chemical to test since the median at all three sites is widely different, whereas chemical Z comes out about the same at all 3 sites and chemical X is pretty close the same average at site 2 and 3. Also, chemical Y does not have any overlap in it's range, so it would be pretty unlikely to predict the wrong site based on it's outcome."
   ]
  },
  {
   "cell_type": "markdown",
   "id": "911466a6-c397-41c1-a0f6-f64e98f041fe",
   "metadata": {},
   "source": [
    "## Problem 7\n",
    "In a certain town three newspapers are published. 20% of the population read A, 16% read B, 14% read C, \n",
    "8% read A and B, 5% read A and C, 4% read B and C, and 2% read all three newspapers. A person is selected \n",
    "at random. Use a Venn diagram to help determine the probability that the person reads:\n",
    "\n",
    "a) none of the papers\n",
    "\n",
    "b) at least one of the papers\n",
    "\n",
    "c) exactly one of the papers\n",
    "\n",
    "d) A or B (or both)\n",
    "\n",
    "e) A, given that the person reads at least one paper\n",
    "\n",
    "f) C, given that the person reads either A or B (or both"
   ]
  },
  {
   "cell_type": "code",
   "execution_count": 39,
   "id": "4b1e7f5a-04df-4441-b9b7-d5124b07c6e7",
   "metadata": {},
   "outputs": [],
   "source": [
    "A = 0.20\n",
    "B = 0.16\n",
    "C = 0.14\n",
    "A_and_B = 0.08\n",
    "A_and_C = 0.05\n",
    "B_and_C = 0.04\n",
    "all = 0.02\n",
    "A_only = A - (A_and_B + A_and_C - all)\n",
    "B_only = B - (A_and_B + B_and_C - all)\n",
    "C_only = C - (A_and_C + B_and_C - all)\n"
   ]
  },
  {
   "cell_type": "code",
   "execution_count": 34,
   "id": "dd0273a8-ae0f-4b92-846c-c51d064a5382",
   "metadata": {},
   "outputs": [
    {
     "name": "stdout",
     "output_type": "stream",
     "text": [
      "0.35\n"
     ]
    }
   ],
   "source": [
    "# b) at least one of the papers\n",
    "At_least_one = round(A + B + C - A_and_B - B_and_C - A_and_C + all,4)\n",
    "print(At_least_one)"
   ]
  },
  {
   "cell_type": "code",
   "execution_count": 35,
   "id": "ab4e8fd2-06b5-4d8b-9c12-746d455fb559",
   "metadata": {},
   "outputs": [
    {
     "name": "stdout",
     "output_type": "stream",
     "text": [
      "0.65\n"
     ]
    }
   ],
   "source": [
    "# a) Persons reads none of the papers\n",
    "none_papers = round(1 - At_least_one,4)\n",
    "print(none_papers)\n"
   ]
  },
  {
   "cell_type": "code",
   "execution_count": 40,
   "id": "0a65f7d2-b98e-476f-9b40-fbd6d060a8da",
   "metadata": {},
   "outputs": [
    {
     "data": {
      "text/plain": [
       "0.22000000000000003"
      ]
     },
     "execution_count": 40,
     "metadata": {},
     "output_type": "execute_result"
    }
   ],
   "source": [
    "# c) exactly one of the papers\n",
    "exactly_one = A_only + B_only + C_only\n",
    "exactly_one"
   ]
  },
  {
   "cell_type": "code",
   "execution_count": 36,
   "id": "87012cc4-d653-4d2b-9367-f5974a37fe09",
   "metadata": {},
   "outputs": [
    {
     "name": "stdout",
     "output_type": "stream",
     "text": [
      "0.5714\n"
     ]
    }
   ],
   "source": [
    "# e) A, given that the person reads at least one paper\n",
    "A_cond_B = round(A/At_least_one,4)\n",
    "print(A_cond_B)"
   ]
  },
  {
   "cell_type": "code",
   "execution_count": 37,
   "id": "b592c302-84f8-4d2d-8f46-f7924f6e9b16",
   "metadata": {},
   "outputs": [
    {
     "name": "stdout",
     "output_type": "stream",
     "text": [
      "0.28\n"
     ]
    }
   ],
   "source": [
    "# d) A or B (or both)\n",
    "A_or_B = round(A + B - A_and_B,4) \n",
    "print(A_or_B)"
   ]
  },
  {
   "cell_type": "code",
   "execution_count": 45,
   "id": "900d8fe4-b62a-4af2-93c4-6a8c726e7204",
   "metadata": {},
   "outputs": [
    {
     "name": "stdout",
     "output_type": "stream",
     "text": [
      "0.25\n"
     ]
    }
   ],
   "source": [
    "# f) C, given that the person reads either A or B (or both)\n",
    "C_cond_A_or_B = (A_and_C+ B_and_C - all)/(A+B-A_and_B)\n",
    "print(C_cond_A_or_B)"
   ]
  },
  {
   "cell_type": "code",
   "execution_count": 47,
   "id": "c4f48ad0-a713-4eb9-a535-2fadb316db1f",
   "metadata": {},
   "outputs": [
    {
     "data": {
      "image/png": "[encoded data removed]",
      "text/plain": [
       "<Figure size 432x288 with 1 Axes>"
      ]
     },
     "metadata": {},
     "output_type": "display_data"
    }
   ],
   "source": [
    "# Visualization time!\n",
    "plt.figure(facecolor='lightgray')\n",
    "venn3(subsets = np.round((A_only, B_only, A_and_B-all, C_only, A_and_C-all, B_and_C-all, all), 7),\n",
    "      set_labels=['A', 'B', 'C'])\n",
    "plt.show()"
   ]
  },
  {
   "cell_type": "code",
   "execution_count": null,
   "id": "c9448778-e37b-4414-b9d0-c7b777804b14",
   "metadata": {},
   "outputs": [],
   "source": []
  }
 ],
 "metadata": {
  "colab": {
   "collapsed_sections": [],
   "name": "Workshop #4 - Problems.ipynb",
   "provenance": []
  },
  "kernelspec": {
   "display_name": "Python 3 (ipykernel)",
   "language": "python",
   "name": "python3"
  },
  "language_info": {
   "codemirror_mode": {
    "name": "ipython",
    "version": 3
   },
   "file_extension": ".py",
   "mimetype": "text/x-python",
   "name": "python",
   "nbconvert_exporter": "python",
   "pygments_lexer": "ipython3",
   "version": "3.9.7"
  }
 },
 "nbformat": 4,
 "nbformat_minor": 5
}
