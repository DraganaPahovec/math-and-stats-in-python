{
 "cells": [
  {
   "cell_type": "markdown",
   "id": "lesser-diversity",
   "metadata": {},
   "source": [
    "# Workshop #2: Calculus"
   ]
  },
  {
   "cell_type": "code",
   "execution_count": 21,
   "id": "subjective-hamilton",
   "metadata": {},
   "outputs": [],
   "source": [
    "#importing libraries\n",
    "import numpy as np\n",
    "import sympy as sp\n",
    "import pandas as pd"
   ]
  },
  {
   "cell_type": "markdown",
   "id": "regulated-doctrine",
   "metadata": {},
   "source": [
    "## Problem 1\n",
    "Let $f(x) = x^4 - x^3$.\n",
    "* Find $f'(x)$ and hence find the critical points of the function.\n",
    "* Using $f''(x)$, establish the nature of the critical points (i.e. if they are min, max, or neither).\n",
    "* Calculate any local max/min values the function may have."
   ]
  },
  {
   "cell_type": "code",
   "execution_count": 46,
   "id": "confused-ordering",
   "metadata": {},
   "outputs": [
    {
     "name": "stdout",
     "output_type": "stream",
     "text": [
      "Critical points for f: [0, 3/4]\n",
      "0\n",
      "-27/256\n",
      "Funkcijata f postignuva min vo x = 3/4 i ima minimalna vrednost od f(3/4) = -27/256\n",
      "df2(0) = 0=0, so the point x* = 0 is inconclusive\n",
      "df2(3/4) = 9/4>0, so the point x* = 3/4 is a MIN\n"
     ]
    }
   ],
   "source": [
    "x = sp.symbols('x')\n",
    "f = sp.Function('f', real=True)\n",
    "f = x**4 - x**3\n",
    "\n",
    "#get the derivative\n",
    "df = f.diff()\n",
    "\n",
    "# find the critical point(s)\n",
    "eq_1 = sp.Eq(df, 0)\n",
    "crit_pts_1 = sp.solve(eq_1, x)\n",
    "print('Critical points for f:',crit_pts_1)\n",
    "\n",
    "max_value= f.subs(x, crit_pts_1[0])\n",
    "min_value = f.subs(x, crit_pts_1[1])\n",
    "print(max_value)\n",
    "print(min_value)\n",
    "\n",
    "print(f'Funkcijata f postignuva min vo x = {crit_pts_1[1]} i ima minimalna vrednost od f({crit_pts_1[1]}) = {min_value}')\n",
    "\n",
    "df2 = f.diff(x, 2)\n",
    "df2\n",
    "\n",
    "df2.subs(x, crit_pts_1[0])\n",
    "print(f'df2({crit_pts_1[0]}) = {df2.subs(x, crit_pts_1[0])}=0, so the point x* = {crit_pts_1[0]} is inconclusive' )\n",
    "df2.subs(x, crit_pts_1[1])\n",
    "print(f'df2({crit_pts_1[1]}) = {df2.subs(x, crit_pts_1[1])}>0, so the point x* = {crit_pts_1[1]} is a MIN' )"
   ]
  },
  {
   "cell_type": "code",
   "execution_count": 48,
   "id": "eecbd115-0fb7-404d-abc6-8e31af0a7228",
   "metadata": {},
   "outputs": [
    {
     "data": {
      "image/png": "[encoded data removed]",
      "text/plain": [
       "<Figure size 432x288 with 1 Axes>"
      ]
     },
     "metadata": {
      "needs_background": "light"
     },
     "output_type": "display_data"
    },
    {
     "data": {
      "text/plain": [
       "<sympy.plotting.plot.Plot at 0x115414e5f40>"
      ]
     },
     "execution_count": 48,
     "metadata": {},
     "output_type": "execute_result"
    }
   ],
   "source": [
    "sp.plot(f, (x, -0.75, 1.25))"
   ]
  },
  {
   "cell_type": "markdown",
   "id": "global-vegetarian",
   "metadata": {},
   "source": [
    "## Problem 2\n",
    "A manufacturer has determined that the cost $C$ of operating a factory is given by\n",
    "\\begin{equation}C(x)=0.5x^2+10x+7200,\\end{equation}\n",
    "where $x$ is the number of units produced.\n",
    "* At what level of production will the **average cost** per unit be minimized? (Note: the average cost is the ratio of the cost of producing $x$ units and $x$, the number of produced units. Once you calculate the minimum average cost, compare it with the minimum cost just for fun)\n",
    "* What is the minimal average cost per unit produced?"
   ]
  },
  {
   "cell_type": "code",
   "execution_count": 125,
   "id": "sticky-friday",
   "metadata": {},
   "outputs": [
    {
     "data": {
      "text/latex": [
       "$\\displaystyle 0.5 x^{2} + 10 x + 7200$"
      ],
      "text/plain": [
       "0.5*x**2 + 10*x + 7200"
      ]
     },
     "execution_count": 125,
     "metadata": {},
     "output_type": "execute_result"
    }
   ],
   "source": [
    "x, c = sp.symbols('x, c')\n",
    "c = sp.Function('c', real=True)\n",
    "c = 0.5*x**2 + 10*x +7200\n",
    "c"
   ]
  },
  {
   "cell_type": "code",
   "execution_count": 126,
   "id": "dce6c7b0-6869-4270-986b-94eb7124dac8",
   "metadata": {},
   "outputs": [
    {
     "data": {
      "text/latex": [
       "$\\displaystyle \\frac{0.5 x^{2} + 10 x + 7200}{x}$"
      ],
      "text/plain": [
       "(0.5*x**2 + 10*x + 7200)/x"
      ]
     },
     "execution_count": 126,
     "metadata": {},
     "output_type": "execute_result"
    }
   ],
   "source": [
    "avg_c = sp.Function('avg_c', real=True)\n",
    "avg_c = c / x\n",
    "avg_c"
   ]
  },
  {
   "cell_type": "code",
   "execution_count": 127,
   "id": "3549e073-b98c-4427-95d1-e820943c6360",
   "metadata": {},
   "outputs": [
    {
     "data": {
      "text/latex": [
       "$\\displaystyle \\frac{1.0 x + 10}{x} - \\frac{0.5 x^{2} + 10 x + 7200}{x^{2}}$"
      ],
      "text/plain": [
       "(1.0*x + 10)/x - (0.5*x**2 + 10*x + 7200)/x**2"
      ]
     },
     "execution_count": 127,
     "metadata": {},
     "output_type": "execute_result"
    }
   ],
   "source": [
    "#get the derivative\n",
    "dc = avg_c.diff()\n",
    "dc"
   ]
  },
  {
   "cell_type": "code",
   "execution_count": 128,
   "id": "aa55bcb4-b48a-44f8-a46e-1c9765233c33",
   "metadata": {},
   "outputs": [
    {
     "data": {
      "text/latex": [
       "$\\displaystyle \\frac{1.0}{x} - \\frac{2 \\left(1.0 x + 10\\right)}{x^{2}} + \\frac{2 \\left(0.5 x^{2} + 10 x + 7200\\right)}{x^{3}}$"
      ],
      "text/plain": [
       "1.0/x - 2*(1.0*x + 10)/x**2 + 2*(0.5*x**2 + 10*x + 7200)/x**3"
      ]
     },
     "execution_count": 128,
     "metadata": {},
     "output_type": "execute_result"
    }
   ],
   "source": [
    "dc2 = dc.diff()\n",
    "dc2"
   ]
  },
  {
   "cell_type": "code",
   "execution_count": 129,
   "id": "943cb0d2-43a2-4b04-be22-e5bc6f34d8c5",
   "metadata": {},
   "outputs": [
    {
     "data": {
      "text/plain": [
       "[-120.000000000000, 120.000000000000]"
      ]
     },
     "execution_count": 129,
     "metadata": {},
     "output_type": "execute_result"
    }
   ],
   "source": [
    "#At what level of production will the average cost per unit be minimized?\n",
    "# find the critical point(s)\n",
    "eq_1 = sp.Eq(dc, 0)\n",
    "crit_pts_1 = sp.solve(eq_1, x)\n",
    "\n",
    "crit_pts_1 "
   ]
  },
  {
   "cell_type": "code",
   "execution_count": 164,
   "id": "81b70dcb-53ca-4c42-9a9b-85af0a28162c",
   "metadata": {},
   "outputs": [
    {
     "name": "stdout",
     "output_type": "stream",
     "text": [
      "Minimum average cost per unit is: 130.000000000000\n"
     ]
    }
   ],
   "source": [
    "#What is the minimal average cost per unit produced?\n",
    "min_value = c.subs(x, crit_pts_1[1]) #ova e minimalnata vrednost\n",
    "min_value\n",
    "\n",
    "min_avg_cost_per_unit = min_value/crit_pts_1[1]\n",
    "print('Minimum average cost per unit is:',min_avg_cost_per_unit)"
   ]
  },
  {
   "cell_type": "markdown",
   "id": "meaningful-robinson",
   "metadata": {},
   "source": [
    "## Problem 3\n",
    "A crocodile is stalking prey located 20 m further upstream on the opposite bank of a river that is 6 m wide.\n",
    "\n",
    "Crocodiles travel at different speeds on land and in water.\n",
    "\n",
    "The time taken for the crocodile to reach its prey can be minimized if it swims to a particular point, $\\text{P}$, $x$ meters upstream on the other side of the river as shown in the diagram.\n",
    "\n",
    "![Crocodile and zebra](crocodile.png)\n",
    "\n",
    "The time taken, $T$, measured in tenths of a second, for the crocodile to reach its prey is given by\n",
    "\\begin{equation}T(x)=7 \\sqrt{36+x^2} + 4(20-x)\\end{equation}\n",
    "\n",
    "* Calculate the time taken if the crocodile does not travel on land.\n",
    "* Calculate the time taken if the crocodile swims the shortest distance possible.\n",
    "* Between these two extremes there is one value of $x$ which minimizes the time taken. Find this value of $x$ and the minimum possible time. Use Gradient Descent Method with appropriate choice of $x_0$ and $\\alpha$."
   ]
  },
  {
   "cell_type": "code",
   "execution_count": 19,
   "id": "alone-sweden",
   "metadata": {},
   "outputs": [
    {
     "data": {
      "text/latex": [
       "$\\displaystyle - 4 x + 7 \\sqrt{x^{2} + 36} + 80$"
      ],
      "text/plain": [
       "-4*x + 7*sqrt(x**2 + 36) + 80"
      ]
     },
     "execution_count": 19,
     "metadata": {},
     "output_type": "execute_result"
    }
   ],
   "source": [
    "x, T = sp.symbols('x T')\n",
    "T = sp.Function('T', real=True)\n",
    "T = 7 * sp.sqrt(36 + x**2) + 4 * (20-x)\n",
    "T"
   ]
  },
  {
   "cell_type": "code",
   "execution_count": 16,
   "id": "90435ee6-d80b-4dea-9c35-1c64cdd841a1",
   "metadata": {},
   "outputs": [
    {
     "data": {
      "text/latex": [
       "$\\displaystyle 14 \\sqrt{109}$"
      ],
      "text/plain": [
       "14*sqrt(109)"
      ]
     },
     "execution_count": 16,
     "metadata": {},
     "output_type": "execute_result"
    }
   ],
   "source": [
    "#Calculate the time taken if the crocodile swims the shortest distance possible.\n",
    "x = 20\n",
    "T = 7 * sp.sqrt(36+x**2) + 4 * (20-x)\n",
    "T.subs(x,20)\n",
    "T"
   ]
  },
  {
   "cell_type": "code",
   "execution_count": 17,
   "id": "a6803bc1-9304-49d2-8dd3-41b0c92ffbd5",
   "metadata": {},
   "outputs": [
    {
     "data": {
      "text/latex": [
       "$\\displaystyle 122$"
      ],
      "text/plain": [
       "122"
      ]
     },
     "execution_count": 17,
     "metadata": {},
     "output_type": "execute_result"
    }
   ],
   "source": [
    "x = 0\n",
    "T = 7 * sp.sqrt(36+x**2) + 4 * (20-x)\n",
    "T.subs(x,0)\n",
    "T"
   ]
  },
  {
   "cell_type": "code",
   "execution_count": 20,
   "id": "90995aab-ec30-4360-a1cd-51562d4d9f7f",
   "metadata": {},
   "outputs": [
    {
     "data": {
      "text/latex": [
       "$\\displaystyle \\frac{7 x}{\\sqrt{x^{2} + 36}} - 4$"
      ],
      "text/plain": [
       "7*x/sqrt(x**2 + 36) - 4"
      ]
     },
     "execution_count": 20,
     "metadata": {},
     "output_type": "execute_result"
    }
   ],
   "source": [
    "T = 7 * sp.sqrt(36+x**2) + 4 * (20-x)\n",
    "dt = T.diff()\n",
    "dt"
   ]
  },
  {
   "cell_type": "code",
   "execution_count": 70,
   "id": "37d2b260-8292-4631-925f-f59415fb20dd",
   "metadata": {},
   "outputs": [
    {
     "data": {
      "text/html": [
       "<div>\n",
       "<style scoped>\n",
       "    .dataframe tbody tr th:only-of-type {\n",
       "        vertical-align: middle;\n",
       "    }\n",
       "\n",
       "    .dataframe tbody tr th {\n",
       "        vertical-align: top;\n",
       "    }\n",
       "\n",
       "    .dataframe thead th {\n",
       "        text-align: right;\n",
       "    }\n",
       "</style>\n",
       "<table border=\"1\" class=\"dataframe\">\n",
       "  <thead>\n",
       "    <tr style=\"text-align: right;\">\n",
       "      <th></th>\n",
       "      <th>k</th>\n",
       "      <th>xk</th>\n",
       "      <th>T(xk)</th>\n",
       "      <th>T'(xk)</th>\n",
       "    </tr>\n",
       "  </thead>\n",
       "  <tbody>\n",
       "    <tr>\n",
       "      <th>0</th>\n",
       "      <td>0.0</td>\n",
       "      <td>20.000000</td>\n",
       "      <td>146.164291</td>\n",
       "      <td>2.704784e+00</td>\n",
       "    </tr>\n",
       "    <tr>\n",
       "      <th>1</th>\n",
       "      <td>1.0</td>\n",
       "      <td>19.729522</td>\n",
       "      <td>145.433731</td>\n",
       "      <td>2.697155e+00</td>\n",
       "    </tr>\n",
       "    <tr>\n",
       "      <th>2</th>\n",
       "      <td>2.0</td>\n",
       "      <td>19.459806</td>\n",
       "      <td>144.707324</td>\n",
       "      <td>2.689257e+00</td>\n",
       "    </tr>\n",
       "    <tr>\n",
       "      <th>3</th>\n",
       "      <td>3.0</td>\n",
       "      <td>19.190880</td>\n",
       "      <td>143.985207</td>\n",
       "      <td>2.681077e+00</td>\n",
       "    </tr>\n",
       "    <tr>\n",
       "      <th>4</th>\n",
       "      <td>4.0</td>\n",
       "      <td>18.922773</td>\n",
       "      <td>143.267518</td>\n",
       "      <td>2.672605e+00</td>\n",
       "    </tr>\n",
       "    <tr>\n",
       "      <th>...</th>\n",
       "      <td>...</td>\n",
       "      <td>...</td>\n",
       "      <td>...</td>\n",
       "      <td>...</td>\n",
       "    </tr>\n",
       "    <tr>\n",
       "      <th>496</th>\n",
       "      <td>496.0</td>\n",
       "      <td>4.177864</td>\n",
       "      <td>114.467376</td>\n",
       "      <td>5.817569e-13</td>\n",
       "    </tr>\n",
       "    <tr>\n",
       "      <th>497</th>\n",
       "      <td>497.0</td>\n",
       "      <td>4.177864</td>\n",
       "      <td>114.467376</td>\n",
       "      <td>5.444534e-13</td>\n",
       "    </tr>\n",
       "    <tr>\n",
       "      <th>498</th>\n",
       "      <td>498.0</td>\n",
       "      <td>4.177864</td>\n",
       "      <td>114.467376</td>\n",
       "      <td>5.089262e-13</td>\n",
       "    </tr>\n",
       "    <tr>\n",
       "      <th>499</th>\n",
       "      <td>499.0</td>\n",
       "      <td>4.177864</td>\n",
       "      <td>114.467376</td>\n",
       "      <td>4.769518e-13</td>\n",
       "    </tr>\n",
       "    <tr>\n",
       "      <th>500</th>\n",
       "      <td>500.0</td>\n",
       "      <td>4.177864</td>\n",
       "      <td>114.467376</td>\n",
       "      <td>4.458656e-13</td>\n",
       "    </tr>\n",
       "  </tbody>\n",
       "</table>\n",
       "<p>501 rows × 4 columns</p>\n",
       "</div>"
      ],
      "text/plain": [
       "         k         xk       T(xk)        T'(xk)\n",
       "0      0.0  20.000000  146.164291  2.704784e+00\n",
       "1      1.0  19.729522  145.433731  2.697155e+00\n",
       "2      2.0  19.459806  144.707324  2.689257e+00\n",
       "3      3.0  19.190880  143.985207  2.681077e+00\n",
       "4      4.0  18.922773  143.267518  2.672605e+00\n",
       "..     ...        ...         ...           ...\n",
       "496  496.0   4.177864  114.467376  5.817569e-13\n",
       "497  497.0   4.177864  114.467376  5.444534e-13\n",
       "498  498.0   4.177864  114.467376  5.089262e-13\n",
       "499  499.0   4.177864  114.467376  4.769518e-13\n",
       "500  500.0   4.177864  114.467376  4.458656e-13\n",
       "\n",
       "[501 rows x 4 columns]"
      ]
     },
     "metadata": {},
     "output_type": "display_data"
    }
   ],
   "source": [
    "Tfunc = sp.lambdify(x, T)\n",
    "dtfunc = sp.lambdify (x, dt)\n",
    "\n",
    "# Initialize the results dataframe\n",
    "results = pd.DataFrame(columns = [\"k\", \"xk\", \"T(xk)\", \"T'(xk)\"])\n",
    "results\n",
    "#Calculate the time taken if the crocodile does not travel on land.\n",
    "# run the algorithm\n",
    "max_iter = 500\n",
    "xk = 20\n",
    "alpha = 0.1\n",
    "k = 0\n",
    "\n",
    "while k <= max_iter: # or we could use a for loop\n",
    "    # store the latest data in the frame\n",
    "    data = {'k' : k, 'xk' : xk, 'T(xk)' : Tfunc(xk), \"T'(xk)\" : dtfunc(xk)}\n",
    "    results = results.append(data, ignore_index=True)\n",
    "    \n",
    "    #update the approximate solution\n",
    "    xk = xk - alpha * dtfunc(xk)\n",
    "    \n",
    "    k = k + 1\n",
    "    \n",
    "display(results)"
   ]
  },
  {
   "cell_type": "code",
   "execution_count": 69,
   "id": "66c72018-838a-4418-a144-e6da452da4ce",
   "metadata": {},
   "outputs": [
    {
     "data": {
      "text/html": [
       "<div>\n",
       "<style scoped>\n",
       "    .dataframe tbody tr th:only-of-type {\n",
       "        vertical-align: middle;\n",
       "    }\n",
       "\n",
       "    .dataframe tbody tr th {\n",
       "        vertical-align: top;\n",
       "    }\n",
       "\n",
       "    .dataframe thead th {\n",
       "        text-align: right;\n",
       "    }\n",
       "</style>\n",
       "<table border=\"1\" class=\"dataframe\">\n",
       "  <thead>\n",
       "    <tr style=\"text-align: right;\">\n",
       "      <th></th>\n",
       "      <th>k</th>\n",
       "      <th>xk</th>\n",
       "      <th>T(xk)</th>\n",
       "      <th>T'(xk)</th>\n",
       "    </tr>\n",
       "  </thead>\n",
       "  <tbody>\n",
       "    <tr>\n",
       "      <th>0</th>\n",
       "      <td>0.0</td>\n",
       "      <td>0.000000</td>\n",
       "      <td>122.000000</td>\n",
       "      <td>-4.000000e+00</td>\n",
       "    </tr>\n",
       "    <tr>\n",
       "      <th>1</th>\n",
       "      <td>1.0</td>\n",
       "      <td>0.400000</td>\n",
       "      <td>120.493230</td>\n",
       "      <td>-3.534367e+00</td>\n",
       "    </tr>\n",
       "    <tr>\n",
       "      <th>2</th>\n",
       "      <td>2.0</td>\n",
       "      <td>0.753437</td>\n",
       "      <td>119.316097</td>\n",
       "      <td>-3.127840e+00</td>\n",
       "    </tr>\n",
       "    <tr>\n",
       "      <th>3</th>\n",
       "      <td>3.0</td>\n",
       "      <td>1.066221</td>\n",
       "      <td>118.393112</td>\n",
       "      <td>-2.775263e+00</td>\n",
       "    </tr>\n",
       "    <tr>\n",
       "      <th>4</th>\n",
       "      <td>4.0</td>\n",
       "      <td>1.343747</td>\n",
       "      <td>117.665425</td>\n",
       "      <td>-2.470191e+00</td>\n",
       "    </tr>\n",
       "    <tr>\n",
       "      <th>...</th>\n",
       "      <td>...</td>\n",
       "      <td>...</td>\n",
       "      <td>...</td>\n",
       "      <td>...</td>\n",
       "    </tr>\n",
       "    <tr>\n",
       "      <th>496</th>\n",
       "      <td>496.0</td>\n",
       "      <td>4.177864</td>\n",
       "      <td>114.467376</td>\n",
       "      <td>-8.437695e-15</td>\n",
       "    </tr>\n",
       "    <tr>\n",
       "      <th>497</th>\n",
       "      <td>497.0</td>\n",
       "      <td>4.177864</td>\n",
       "      <td>114.467376</td>\n",
       "      <td>-7.105427e-15</td>\n",
       "    </tr>\n",
       "    <tr>\n",
       "      <th>498</th>\n",
       "      <td>498.0</td>\n",
       "      <td>4.177864</td>\n",
       "      <td>114.467376</td>\n",
       "      <td>-6.661338e-15</td>\n",
       "    </tr>\n",
       "    <tr>\n",
       "      <th>499</th>\n",
       "      <td>499.0</td>\n",
       "      <td>4.177864</td>\n",
       "      <td>114.467376</td>\n",
       "      <td>-5.773160e-15</td>\n",
       "    </tr>\n",
       "    <tr>\n",
       "      <th>500</th>\n",
       "      <td>500.0</td>\n",
       "      <td>4.177864</td>\n",
       "      <td>114.467376</td>\n",
       "      <td>-5.773160e-15</td>\n",
       "    </tr>\n",
       "  </tbody>\n",
       "</table>\n",
       "<p>501 rows × 4 columns</p>\n",
       "</div>"
      ],
      "text/plain": [
       "         k        xk       T(xk)        T'(xk)\n",
       "0      0.0  0.000000  122.000000 -4.000000e+00\n",
       "1      1.0  0.400000  120.493230 -3.534367e+00\n",
       "2      2.0  0.753437  119.316097 -3.127840e+00\n",
       "3      3.0  1.066221  118.393112 -2.775263e+00\n",
       "4      4.0  1.343747  117.665425 -2.470191e+00\n",
       "..     ...       ...         ...           ...\n",
       "496  496.0  4.177864  114.467376 -8.437695e-15\n",
       "497  497.0  4.177864  114.467376 -7.105427e-15\n",
       "498  498.0  4.177864  114.467376 -6.661338e-15\n",
       "499  499.0  4.177864  114.467376 -5.773160e-15\n",
       "500  500.0  4.177864  114.467376 -5.773160e-15\n",
       "\n",
       "[501 rows x 4 columns]"
      ]
     },
     "metadata": {},
     "output_type": "display_data"
    }
   ],
   "source": [
    "Tfunc = sp.lambdify(x, T)\n",
    "dtfunc = sp.lambdify (x, dt)\n",
    "\n",
    "# Initialize the results dataframe\n",
    "results = pd.DataFrame(columns = [\"k\", \"xk\", \"T(xk)\", \"T'(xk)\"])\n",
    "results\n",
    "#Calculate the time taken if the crocodile swims the shortest distance possible.\n",
    "# run the algorithm\n",
    "max_iter = 500\n",
    "xk = 0\n",
    "alpha = 0.1\n",
    "k = 0\n",
    "\n",
    "while k <= max_iter: # or we could use a for loop\n",
    "    # store the latest data in the frame\n",
    "    data = {'k' : k, 'xk' : xk, 'T(xk)' : Tfunc(xk), \"T'(xk)\" : dtfunc(xk)}\n",
    "    results = results.append(data, ignore_index=True)\n",
    "    \n",
    "    #update the approximate solution\n",
    "    xk = xk - alpha * dtfunc(xk)\n",
    "    \n",
    "    k = k + 1\n",
    "    \n",
    "display(results)"
   ]
  },
  {
   "cell_type": "code",
   "execution_count": 83,
   "id": "9b267e09-da94-4944-8220-cb1e6e15c152",
   "metadata": {},
   "outputs": [
    {
     "data": {
      "text/html": [
       "<div>\n",
       "<style scoped>\n",
       "    .dataframe tbody tr th:only-of-type {\n",
       "        vertical-align: middle;\n",
       "    }\n",
       "\n",
       "    .dataframe tbody tr th {\n",
       "        vertical-align: top;\n",
       "    }\n",
       "\n",
       "    .dataframe thead th {\n",
       "        text-align: right;\n",
       "    }\n",
       "</style>\n",
       "<table border=\"1\" class=\"dataframe\">\n",
       "  <thead>\n",
       "    <tr style=\"text-align: right;\">\n",
       "      <th></th>\n",
       "      <th>k</th>\n",
       "      <th>xk</th>\n",
       "      <th>T(xk)</th>\n",
       "      <th>T'(xk)</th>\n",
       "    </tr>\n",
       "  </thead>\n",
       "  <tbody>\n",
       "    <tr>\n",
       "      <th>496</th>\n",
       "      <td>496.0</td>\n",
       "      <td>4.177864</td>\n",
       "      <td>114.467376</td>\n",
       "      <td>5.817569e-13</td>\n",
       "    </tr>\n",
       "    <tr>\n",
       "      <th>497</th>\n",
       "      <td>497.0</td>\n",
       "      <td>4.177864</td>\n",
       "      <td>114.467376</td>\n",
       "      <td>5.444534e-13</td>\n",
       "    </tr>\n",
       "    <tr>\n",
       "      <th>498</th>\n",
       "      <td>498.0</td>\n",
       "      <td>4.177864</td>\n",
       "      <td>114.467376</td>\n",
       "      <td>5.089262e-13</td>\n",
       "    </tr>\n",
       "    <tr>\n",
       "      <th>499</th>\n",
       "      <td>499.0</td>\n",
       "      <td>4.177864</td>\n",
       "      <td>114.467376</td>\n",
       "      <td>4.769518e-13</td>\n",
       "    </tr>\n",
       "    <tr>\n",
       "      <th>500</th>\n",
       "      <td>500.0</td>\n",
       "      <td>4.177864</td>\n",
       "      <td>114.467376</td>\n",
       "      <td>4.458656e-13</td>\n",
       "    </tr>\n",
       "  </tbody>\n",
       "</table>\n",
       "</div>"
      ],
      "text/plain": [
       "         k        xk       T(xk)        T'(xk)\n",
       "496  496.0  4.177864  114.467376  5.817569e-13\n",
       "497  497.0  4.177864  114.467376  5.444534e-13\n",
       "498  498.0  4.177864  114.467376  5.089262e-13\n",
       "499  499.0  4.177864  114.467376  4.769518e-13\n",
       "500  500.0  4.177864  114.467376  4.458656e-13"
      ]
     },
     "metadata": {},
     "output_type": "display_data"
    }
   ],
   "source": [
    "#Find this value of  𝑥  and the minimum possible time. Use Gradient Descent Method \n",
    "#with appropriate choice of  𝑥0  and  𝛼 .\n",
    "\n",
    "T = sp.Function('T', real=True)\n",
    "T = 7 * sp.sqrt(36 + x**2) + 4 * (20-x)\n",
    "dt = T.diff()\n",
    "\n",
    "Tfunc = sp.lambdify(x, T)\n",
    "dtfunc = sp.lambdify (x, dt)\n",
    "\n",
    "# Initialize the results dataframe\n",
    "results = pd.DataFrame(columns = [\"k\", \"xk\", \"T(xk)\", \"T'(xk)\"])\n",
    "\n",
    "# run the algorithm\n",
    "max_iter = 500\n",
    "xk = 20\n",
    "alpha = 0.1\n",
    "k = 0\n",
    "\n",
    "while k <= max_iter: # or we could use a for loop\n",
    "    # store the latest data in the frame\n",
    "    data = {'k' : k, 'xk' : xk, 'T(xk)' : Tfunc(xk), \"T'(xk)\" : dtfunc(xk)}\n",
    "    results = results.append(data, ignore_index=True)\n",
    "    \n",
    "    #update the approximate solution\n",
    "    xk = xk - alpha * dtfunc(xk)\n",
    "    \n",
    "    k = k + 1\n",
    "    \n",
    "display(results.tail())"
   ]
  },
  {
   "cell_type": "markdown",
   "id": "european-actress",
   "metadata": {},
   "source": [
    "## Problem 4\n",
    "**Newton's method** is an important root-finding algorithm that can also be used for optimization. Given a function $f(x)$ and a **good** initial approximation $x_0$, the sequence $x_1, x_2, \\ldots$ generated by the recursive rule:\n",
    "\\begin{equation}x_{k+1} = x_k - \\frac{f'(x_k )}{f''(x_k)}\\end{equation}\n",
    "converges to a point $x^*$ that satisfies $f'(x^*) = 0$, i.e. to a minimum of the function.\n",
    "\n",
    "Write a function that accepts: a function $f$, its derivative $f'$ and second derivative $f''$, a starting point $x_0$, a maximum number of iterations $\\text{max_iter}$, and a stopping tolerance $\\text{tol}$ as inputs. Implement Newton's method using the recursive relation given above. Your function should return: the approximate minimum $x^*$, the minimum value $f(x^*)$, the absolute value of the derivative at the approximate minimum $|f'(x^*)|$, and the number of iterations computed.\n",
    "\n",
    "Test the performance of Newton’s method on the function $T(x)$ from **Problem 3.**, using the same initial approximation $x_0$ you used. Compare the performance of the two methods. "
   ]
  },
  {
   "cell_type": "code",
   "execution_count": 171,
   "id": "b536a70a-d86e-4102-9c93-f019c9908418",
   "metadata": {},
   "outputs": [
    {
     "name": "stdout",
     "output_type": "stream",
     "text": [
      "-7*x**2/(x**2 + 36)**(3/2) + 7/sqrt(x**2 + 36)\n",
      "-16\n"
     ]
    },
    {
     "data": {
      "text/plain": [
       "501"
      ]
     },
     "execution_count": 171,
     "metadata": {},
     "output_type": "execute_result"
    }
   ],
   "source": [
    "dt2= dt.diff()\n",
    "print(dt2)\n",
    "tol = 10^(-6)\n",
    "print(tol)\n",
    "xk\n",
    "k"
   ]
  },
  {
   "cell_type": "code",
   "execution_count": 197,
   "id": "identified-director",
   "metadata": {},
   "outputs": [
    {
     "name": "stdout",
     "output_type": "stream",
     "text": [
      "k\t\txk\t\tf(xk)\t\tdf(xk)\n",
      "-------------------------\n",
      "0\t\t4.1655567883935873e-13\t\t121.99999999999834\t\t-3.999999999999514\n",
      "1\t\t4.1655567883935873e-13\t\t121.99999999999834\t\t-3.999999999999514\n",
      "2\t\t4.1655567883935873e-13\t\t121.99999999999834\t\t-3.999999999999514\n",
      "3\t\t4.1655567883935873e-13\t\t121.99999999999834\t\t-3.999999999999514\n",
      "4\t\t4.1655567883935873e-13\t\t121.99999999999834\t\t-3.999999999999514\n",
      "5\t\t4.1655567883935873e-13\t\t121.99999999999834\t\t-3.999999999999514\n"
     ]
    },
    {
     "data": {
      "text/plain": [
       "(4.1655567883935873e-13, 121.99999999999834, -3.999999999999514, 5)"
      ]
     },
     "execution_count": 197,
     "metadata": {},
     "output_type": "execute_result"
    }
   ],
   "source": [
    "def Newton_method(T, dt, dt2, xk, max_iter = 4, tol = 1e-6):\n",
    "    k = 0\n",
    "    print('k\\t\\txk\\t\\tf(xk)\\t\\tdf(xk)')\n",
    "    print('-------------------------')\n",
    "    print(f'{k}\\t\\t{xk}\\t\\t{Tfunc(xk)}\\t\\t{dtfunc(xk)}')\n",
    "    \n",
    "    while k <= max_iter and np.abs(Tfunc(xk)) >= tol:\n",
    "        # update the approximate solution\n",
    "        k = k + 1\n",
    "        print(f'{k}\\t\\t{xk}\\t\\t{Tfunc(xk)}\\t\\t{dtfunc(xk)}')\n",
    "    \n",
    "    return xk, Tfunc(xk), dtfunc(xk), k\n",
    "\n",
    "Newton_method (dt2,xk, Tfunc(xk), dtfunc(xk))"
   ]
  },
  {
   "cell_type": "code",
   "execution_count": 228,
   "id": "189ac2fe-13a0-4f6a-b9ca-e6c789173597",
   "metadata": {},
   "outputs": [],
   "source": [
    "#NOTE: I tried, but it didn't go well :( "
   ]
  },
  {
   "cell_type": "code",
   "execution_count": null,
   "id": "6050bb7c-84b5-43ce-884a-f7344a1b445b",
   "metadata": {},
   "outputs": [],
   "source": []
  }
 ],
 "metadata": {
  "kernelspec": {
   "display_name": "Python 3 (ipykernel)",
   "language": "python",
   "name": "python3"
  },
  "language_info": {
   "codemirror_mode": {
    "name": "ipython",
    "version": 3
   },
   "file_extension": ".py",
   "mimetype": "text/x-python",
   "name": "python",
   "nbconvert_exporter": "python",
   "pygments_lexer": "ipython3",
   "version": "3.9.7"
  }
 },
 "nbformat": 4,
 "nbformat_minor": 5
}
